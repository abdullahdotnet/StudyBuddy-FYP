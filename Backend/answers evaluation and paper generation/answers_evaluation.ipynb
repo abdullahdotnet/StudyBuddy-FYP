{
 "cells": [
  {
   "cell_type": "code",
   "execution_count": 1,
   "metadata": {},
   "outputs": [
    {
     "name": "stderr",
     "output_type": "stream",
     "text": [
      "c:\\Users\\PRECISION\\AppData\\Local\\Programs\\Python\\Python311\\Lib\\site-packages\\pydantic\\_internal\\_fields.py:132: UserWarning: Field \"model_name\" in HuggingFaceInferenceAPIEmbeddings has conflict with protected namespace \"model_\".\n",
      "\n",
      "You may be able to resolve this warning by setting `model_config['protected_namespaces'] = ()`.\n",
      "  warnings.warn(\n"
     ]
    }
   ],
   "source": [
    "import os\n",
    "import PyPDF2\n",
    "from langchain_groq import ChatGroq\n",
    "from langchain.chains import RetrievalQA\n",
    "from langchain.embeddings import HuggingFaceEmbeddings\n",
    "from langchain.vectorstores import Chroma\n",
    "from langchain.text_splitter import CharacterTextSplitter\n",
    "import cv2\n",
    "import pytesseract\n",
    "from PIL import Image"
   ]
  },
  {
   "cell_type": "code",
   "execution_count": 2,
   "metadata": {},
   "outputs": [],
   "source": [
    "# Set up Groq API key\n",
    "os.environ[\"GROQ_API_KEY\"] = \"Replace with your actual Groq API key\"  # Replace with your actual Groq API key\n"
   ]
  },
  {
   "cell_type": "code",
   "execution_count": 3,
   "metadata": {},
   "outputs": [],
   "source": [
    "def extract_text_from_pdf(pdf_path):\n",
    "    with open(pdf_path, 'rb') as file:\n",
    "        reader = PyPDF2.PdfReader(file)\n",
    "        text = \"\"\n",
    "        for page in reader.pages:\n",
    "            text += page.extract_text()\n",
    "    return text"
   ]
  },
  {
   "cell_type": "code",
   "execution_count": 4,
   "metadata": {},
   "outputs": [],
   "source": [
    "def create_qa_system(question_paper_path):\n",
    "    question_paper_text = extract_text_from_pdf(question_paper_path)\n",
    "\n",
    "    text_splitter = CharacterTextSplitter(chunk_size=1000, chunk_overlap=0)\n",
    "    texts = text_splitter.split_text(question_paper_text)\n",
    "\n",
    "    embeddings = HuggingFaceEmbeddings()\n",
    "    db = Chroma.from_texts(texts, embeddings)\n",
    "\n",
    "    llm = ChatGroq(\n",
    "        model=\"llama-3.1-70b-versatile\",\n",
    "        temperature=0.2,  # Lower temperature for more consistent evaluations\n",
    "    )\n",
    "\n",
    "    qa = RetrievalQA.from_chain_type(llm=llm, chain_type=\"stuff\", retriever=db.as_retriever(search_kwargs={\"k\": 3}))\n",
    "\n",
    "    return qa"
   ]
  },
  {
   "cell_type": "code",
   "execution_count": 5,
   "metadata": {},
   "outputs": [],
   "source": [
    "def preprocess_image(image_path):\n",
    "    img = cv2.imread(image_path)\n",
    "    gray = cv2.cvtColor(img, cv2.COLOR_BGR2GRAY)\n",
    "    thresh = cv2.threshold(gray, 0, 255, cv2.THRESH_BINARY | cv2.THRESH_OTSU)[1]\n",
    "    kernel = cv2.getStructuringElement(cv2.MORPH_RECT, (3,3))\n",
    "    dilated = cv2.dilate(thresh, kernel, iterations=1)\n",
    "    return dilated\n"
   ]
  },
  {
   "cell_type": "code",
   "execution_count": 6,
   "metadata": {},
   "outputs": [],
   "source": [
    "def extract_text_from_image(image_path):\n",
    "    processed_image = preprocess_image(image_path)\n",
    "    text = pytesseract.image_to_string(processed_image)\n",
    "    return text"
   ]
  },
  {
   "cell_type": "code",
   "execution_count": null,
   "metadata": {},
   "outputs": [],
   "source": [
    "def evaluate_answer(qa_system, question_number, student_answer):\n",
    "    prompt = f\"\"\"\n",
    "    Referring to Question {question_number} in the question paper:\n",
    "    \n",
    "    Student's Answer: {student_answer}\n",
    "\n",
    "    Please evaluate the student's answer based on the following criteria:\n",
    "    1. Correctness: Is the answer factually correct and aligned with the question's requirements?\n",
    "    2. Completeness: Does the answer address all parts of the question?\n",
    "    3. Clarity: Is the answer well-expressed and easy to understand?\n",
    "    4. Relevance: Is the answer directly relevant to the question asked?\n",
    "\n",
    "    Provide a brief evaluation for each criterion and an overall score out of 10 for the answer.\n",
    "    \"\"\"\n",
    "    \n",
    "    evaluation = qa_system.run(prompt)\n",
    "    return evaluation"
   ]
  },
  {
   "cell_type": "code",
   "execution_count": null,
   "metadata": {},
   "outputs": [],
   "source": [
    "def main():\n",
    "    question_paper_path = \"generated_question_paper.pdf\"\n",
    "    qa_system = create_qa_system(question_paper_path)\n",
    "\n",
    "    # Assuming the student's answers are in separate image files\n",
    "    for question_number in range(1, 3):  # Assuming 10 questions\n",
    "        student_answer_image_path = f\"answer_{question_number}.jpg\"\n",
    "        \n",
    "        if os.path.exists(student_answer_image_path):\n",
    "            student_answer_text = extract_text_from_image(student_answer_image_path)\n",
    "            evaluation = evaluate_answer(qa_system, question_number, student_answer_text)\n",
    "            \n",
    "            print(f\"Evaluation for Question {question_number}:\")\n",
    "            print(evaluation)\n",
    "            print(\"\\n\" + \"-\"*50 + \"\\n\")\n",
    "        else:\n",
    "            print(f\"No answer image found for Question {question_number}\")\n",
    "\n",
    "if __name__ == \"__main__\":\n",
    "    main()"
   ]
  },
  {
   "cell_type": "code",
   "execution_count": null,
   "metadata": {},
   "outputs": [],
   "source": []
  }
 ],
 "metadata": {
  "kernelspec": {
   "display_name": "Python 3",
   "language": "python",
   "name": "python3"
  },
  "language_info": {
   "codemirror_mode": {
    "name": "ipython",
    "version": 3
   },
   "file_extension": ".py",
   "mimetype": "text/x-python",
   "name": "python",
   "nbconvert_exporter": "python",
   "pygments_lexer": "ipython3",
   "version": "3.11.9"
  }
 },
 "nbformat": 4,
 "nbformat_minor": 2
}
