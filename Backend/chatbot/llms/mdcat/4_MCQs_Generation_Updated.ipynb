{
 "cells": [
  {
   "cell_type": "code",
   "execution_count": 1,
   "metadata": {},
   "outputs": [],
   "source": [
    "# from dotenv import load_dotenv\n",
    "# import os\n",
    "# import pandas as pd\n",
    "# from langchain.embeddings import HuggingFaceEmbeddings\n",
    "# from langchain.vectorstores import Chroma\n",
    "# from langchain_groq import ChatGroq\n",
    "# from langchain.text_splitter import CharacterTextSplitter\n",
    "# from langchain.chains import RetrievalQA\n",
    "# from langchain.schema import Document\n",
    "# # from langchain.schema import Metadata"
   ]
  },
  {
   "cell_type": "code",
   "execution_count": 2,
   "metadata": {},
   "outputs": [],
   "source": [
    "# # Load .env file\n",
    "# load_dotenv()\n",
    "# groq_api_key = os.getenv('GROQ_API_KEY')\n",
    "# if not groq_api_key:\n",
    "#     raise ValueError(\"Groq API key not found in .env file\")"
   ]
  },
  {
   "cell_type": "code",
   "execution_count": 3,
   "metadata": {},
   "outputs": [],
   "source": [
    "\n",
    "\n",
    "# # Step 1: Load CSV Data\n",
    "# df = pd.read_csv(\"UHS_24.csv\")  # Adjust delimiter if needed\n",
    "\n",
    "# # Step 2: Prepare Chunks for Each MCQ\n",
    "# def create_chunks(row):\n",
    "#     question = f\"Q: {row['Question']}\\n\"\n",
    "#     options = f\"Options:\\nA. {row['Option 1']}\\nB. {row['Option 2']}\\nC. {row['Option 3']}\\nD. {row['Option 4']}\\n\"\n",
    "#     answer = f\"Answer: {row['Answers']}\\n\"\n",
    "#     chunk = question + options + answer\n",
    "#     metadata = {\"subject\": row[\"Subjects\"]}\n",
    "#     return Document(page_content=chunk, metadata=metadata)\n",
    "\n",
    "# # Step 3: Create a List of Documents (Chunks)\n",
    "# docs = [create_chunks(row) for index, row in df.iterrows() if row['Answers'] != \"Deleted\"]\n",
    "\n",
    "# # Step 4: Create HuggingFace Embeddings\n",
    "# embedding_model = HuggingFaceEmbeddings(model_name=\"sentence-transformers/all-MiniLM-L6-v2\")\n",
    "\n",
    "# # Step 5: Store Embeddings in Chroma\n",
    "# persist_directory = \"uhs_24_chroma_store\"  # Directory to store Chroma DB\n",
    "# vector_store = Chroma.from_documents(docs, embedding_model, persist_directory=persist_directory)\n",
    "\n"
   ]
  },
  {
   "cell_type": "markdown",
   "metadata": {},
   "source": []
  },
  {
   "cell_type": "code",
   "execution_count": 4,
   "metadata": {},
   "outputs": [],
   "source": [
    "# # Step 1: Set up Embeddings and Vector Store\n",
    "# embedding_model = HuggingFaceEmbeddings(model_name=\"sentence-transformers/all-MiniLM-L6-v2\")\n",
    "# persist_directory = \"uhs_24_chroma_store\"  # Ensure this directory has the stored vector DB\n",
    "# vector_store = Chroma(persist_directory=persist_directory, embedding_function=embedding_model)\n",
    "\n",
    "# # Step 2: Initialize the LLM and RetrievalQA System\n",
    "# llm = ChatGroq(model=\"llama-3.1-70b-versatile\", temperature=0.7)\n",
    "# retriever = vector_store.as_retriever()\n",
    "# qa_system = RetrievalQA.from_chain_type(llm=llm, retriever=retriever)\n",
    "\n",
    "# # Step 3: Generate Questions with Structured Formatting\n",
    "# def generate_question_paper(qa_system, num_questions=10):\n",
    "#     questions = []\n",
    "#     for i in range(num_questions):\n",
    "#         prompt = (\n",
    "#             \"Generate a new multiple choice question based on past paper content. \"\n",
    "#             \"The question should align with subject textbooks and be structured clearly for an exam, \"\n",
    "#             \"with options labeled as A, B, C, D. Provide a challenging but fair question.\"\n",
    "#         )\n",
    "#         response = qa_system.run(prompt)\n",
    "#         questions.append(f\"Q{i + 1}:\\n{response}\\n\\n\")\n",
    "\n",
    "#     return questions\n",
    "\n",
    "# # Step 4: Save the Questions to a File\n",
    "# def save_question_paper(questions, filename=\"MCQ_Paper.txt\"):\n",
    "#     with open(filename, \"w\") as file:\n",
    "#         file.writelines(questions)\n",
    "\n",
    "#     print(f\"Question paper generated and saved as '{filename}'.\")\n",
    "\n",
    "# # Step 5: Generate and Save the Question Paper\n",
    "# questions = generate_question_paper(qa_system, num_questions=10)\n",
    "# save_question_paper(questions)\n"
   ]
  },
  {
   "cell_type": "code",
   "execution_count": 2,
   "metadata": {},
   "outputs": [],
   "source": [
    "from dotenv import load_dotenv\n",
    "import os\n",
    "import pandas as pd\n",
    "from langchain.embeddings import HuggingFaceEmbeddings\n",
    "from langchain.vectorstores import Chroma\n",
    "from langchain_groq import ChatGroq\n",
    "from langchain.chains import RetrievalQA\n",
    "from langchain.schema import Document"
   ]
  },
  {
   "cell_type": "code",
   "execution_count": 3,
   "metadata": {},
   "outputs": [],
   "source": [
    "# Load environment variables\n",
    "load_dotenv()\n",
    "groq_api_key = os.getenv('GROQ_API_KEY')\n",
    "if not groq_api_key:\n",
    "    raise ValueError(\"Groq API key not found in .env file.\")"
   ]
  },
  {
   "cell_type": "code",
   "execution_count": 4,
   "metadata": {},
   "outputs": [
    {
     "name": "stdout",
     "output_type": "stream",
     "text": [
      "[Document(metadata={'subject': 'Biology'}, page_content='Q: Example of viruses having a polyhedral capsid that is with 252 capsomeres is :\\nOptions:\\nA. Bacteriophage\\nB. Influenza virus\\nC. Tobacco Mosaic Virus\\nD. Adenovirus\\nAnswer: A\\n'), Document(metadata={'subject': 'Biology'}, page_content='Q: The causative organisms of measles is\\nOptions:\\nA. Picovirus\\nB. Papuvirus\\nC. Paramyxovirus\\nD. Poxivirus\\nAnswer: D\\n'), Document(metadata={'subject': 'Biology'}, page_content='Q: In the life cycle of bacteriophage, the lysozymes are required in which of the following steps of infection process\\nOptions:\\nA. Replication\\nB. Penetration\\nC. Genome injection\\nD. Adsorption\\nAnswer: B\\n'), Document(metadata={'subject': 'Biology'}, page_content='Q: _____ is transmitted through infected blood and hypodermic syringes\\nOptions:\\nA. Morbilli virus ( Measles )\\nB. HIV\\nC. Vibrio cholerae ( Cholera )\\nD. Influenza virus\\nAnswer: A\\n'), Document(metadata={'subject': 'Biology'}, page_content='Q: In Calvin cycle CO2 react with RuBP to produce _____.\\nOptions:\\nA. 1,3 bisphosphglycerate\\nB. G3P\\nC. 6-carbon unstable intermediate\\nD. 3-PGA\\nAnswer: C\\n'), Document(metadata={'subject': 'Biology'}, page_content='Q: Which option is correct about a chlorophyll molecule\\nOptions:\\nA. Chemical formula C55 H70 O6 N4 Mg\\nB. Porphyrin ring with nitrogen in centre\\nC. Aldehyde group on second pyrroll ring\\nD. Methyl group on second pyrroll ring\\nAnswer: A\\n'), Document(metadata={'subject': 'Biology'}, page_content='Q: In the journey of electrons from photosystem II to photosystem I plastocyanine is reduced\\nOptions:\\nA. Primary electron acceptor of PSI\\nB. Cytrome complex\\nC. P700\\nD. Plastoquinone\\nAnswer: B\\n'), Document(metadata={'subject': 'Biology'}, page_content='Q: Enzyme NADP reductase is responsible for :\\nOptions:\\nA. Reducing P700\\nB. Reducing Ferredoxin\\nC. Oxidizing NADP+\\nD. Reducing NADP+\\nAnswer: A\\n'), Document(metadata={'subject': 'Biology'}, page_content='Q: The PS II during light reactions receives electrons from spilting\\nOptions:\\nA. Plastocyanine\\nB. Plastoquinone\\nC. Water\\nD. Ferredoxin\\nAnswer: A\\n'), Document(metadata={'subject': 'Biology'}, page_content='Q: Mono-saccharides have general formula represented by\\nOptions:\\nA. C ( H20 ) n\\nB. Cn ( H20 ) n\\nC. Cn ( H20 ) n\\nD. C2 ( H2O ) n\\nAnswer: B\\n'), Document(metadata={'subject': 'Biology'}, page_content='Q: What is the percentage of H2O in bone cells\\nOptions:\\nA. 99%\\nB. 60%\\nC. 20%\\nD. 70%\\nAnswer: B\\n'), Document(metadata={'subject': 'Biology'}, page_content='Q: When glycerol reacts with fatty acid, which type of chemical bond will form\\nOptions:\\nA. Ionic Bond\\nB. Ether Linkage\\nC. Hydrogen Bond\\nD. Ester Bond\\nAnswer: A\\n'), Document(metadata={'subject': 'Biology'}, page_content='Q: Polysaccharides in plants are synthesized by the process of\\nOptions:\\nA. Oxidation\\nB. Condensation\\nC. Glycolysis\\nD. Hydrolysis\\nAnswer: C\\n'), Document(metadata={'subject': 'Biology'}, page_content='Q: Which of the following process is involved in breakdown of protein into Amino acids\\nOptions:\\nA. Glycolysis\\nB. Hydrolysis\\nC. Condensation\\nD. Fixation\\nAnswer: B\\n'), Document(metadata={'subject': 'Biology'}, page_content='Q: The hydrophilic end of phospholipid molecule is polar because of the presence of\\nOptions:\\nA. Glycerol\\nB. Fatly Acid\\nC. Amine group\\nD. Phosphate group\\nAnswer: D\\n'), Document(metadata={'subject': 'Biology'}, page_content='Q: Which monosaccharide will from a gluco pyranose ring in solution\\nOptions:\\nA. Fructose\\nB. Ribose\\nC. Glucose\\nD. Deoxyribose\\nAnswer: B\\n'), Document(metadata={'subject': 'Biology'}, page_content='Q: Which of the following is the function of Golgi Complex\\nOptions:\\nA. Autolysis\\nB. Intracellular digestion\\nC. Autophagy\\nD. Processing of cell secretions\\nAnswer: D\\n'), Document(metadata={'subject': 'Biology'}, page_content='Q: The nucleus takes dyes due to the presence Of\\nOptions:\\nA. Metal ions\\nB. Thylakoids\\nC. Chromatin\\nD. Lipid\\nAnswer: A\\n'), Document(metadata={'subject': 'Biology'}, page_content='Q: The organelles only found at seeding stage in oil seed plant are\\nOptions:\\nA. Vacuoles\\nB. Peroxisomes\\nC. Microbodies\\nD. Glyoxiosomes\\nAnswer: B\\n'), Document(metadata={'subject': 'Biology'}, page_content='Q: Posterior lobe of pituitary produce\\nOptions:\\nA. Adreno Corticufrotric Hormone (ACH)\\nB. Thyroid Stimulating Hormone (TSH)\\nC. Follicle Stimulating Hormone (FSH)\\nD. Antidiuretic Hormone ( ADH )\\nAnswer: A\\n'), Document(metadata={'subject': 'Biology'}, page_content='Q: In human myelinated fibers nerve impulse travels at _____ meters per second\\nOptions:\\nA. 130-150\\nB. 100-120\\nC. 190-210\\nD. 160-180\\nAnswer: A\\n'), Document(metadata={'subject': 'Biology'}, page_content='Q: Nisslâ€™s granules are groups of\\nOptions:\\nA. Ribosomes\\nB. Lysosomes\\nC. Mesosomes\\nD. Chromosome\\nAnswer: C\\n'), Document(metadata={'subject': 'Biology'}, page_content='Q: During non-conducting state, the neuron membrane is permeable to efflux of\\nOptions:\\nA. Cl-\\nB. Na+\\nC. Ca+\\nD. K+\\nAnswer: A\\n'), Document(metadata={'subject': 'Biology'}, page_content='Q: Which of the following neurotransmitters is lying outside the central nervous system\\nOptions:\\nA. Acetylcholine\\nB. Dopamine\\nC. Endorphins\\nD. Gamma â€“ aminobutyric acid\\nAnswer: A\\n'), Document(metadata={'subject': 'Biology'}, page_content='Q: Depolarization during conduction of nerve impulse is due to\\nOptions:\\nA. Outward movement of K+\\nB. Inward movement of Na+\\nC. Inward movement of K+\\nD. Outward movement of Na+\\nAnswer: A\\n'), Document(metadata={'subject': 'Biology'}, page_content='Q: Which of the following is NOT a feature of Autonomic Nervous System\\nOptions:\\nA. Regulate response of skeletal muscles\\nB. Regulate response of visceral organs\\nC. Regulate response of smooth muscles\\nD. Regulate response of glands\\nAnswer: B\\n'), Document(metadata={'subject': 'Biology'}, page_content='Q: Taste receptor is an example of\\nOptions:\\nA. Chemo receptors\\nB. Mechano receptors\\nC. Nociceptor\\nD. Photo receptors\\nAnswer: D\\n'), Document(metadata={'subject': 'Biology'}, page_content='Q: Which of the following belongs to chordates\\nOptions:\\nA. Earthworm\\nB. Star Fish\\nC. Spider\\nD. Trout Fish\\nAnswer: C\\n'), Document(metadata={'subject': 'Biology'}, page_content='Q: Which of the following statement is incorrect regarding rate of enzymatic action\\nOptions:\\nA. Increase in enzyme concentration reduce the rate\\nB. All enzymes work at their maximum rate at optimum pH\\nC. All enzymes work at their maximum rate at optimum temperature\\nD. Increase in enzyme concentration increase the rate\\nAnswer: B\\n'), Document(metadata={'subject': 'Biology'}, page_content='Q: Induced fit model of enzyme activity suggests that an enzyme\\nOptions:\\nA. Can catalyze related reaction\\nB. Cannot modify its active sites\\nC. Usually belongs to non-regulatory enzyme\\nD. Can bind to a single substrate\\nAnswer: C\\n'), Document(metadata={'subject': 'Biology'}, page_content='Q: Chromosomal abnormality in Turner syndrome Is represented by\\nOptions:\\nA. XXX\\nB. XXY\\nC. XYY\\nD. XO\\nAnswer: C\\n'), Document(metadata={'subject': 'Biology'}, page_content='Q: The change In frequency of alleles at a locus that occurs by chance Is known as:\\nOptions:\\nA. Mutation\\nB. Speciation\\nC. Non Random mating\\nD. Genetic Drift\\nAnswer: B\\n'), Document(metadata={'subject': 'Biology'}, page_content='Q: Identify the correct pair of vestigial organs:\\nOptions:\\nA. Ear Muscles & Vermiform appendix\\nB. Vermiform appendix & Heart\\nC. Heart & Liver\\nD. Ear Muscles & Liver\\nAnswer: A\\n'), Document(metadata={'subject': 'Biology'}, page_content='Q: Which of the following increases variation within a gene pool\\nOptions:\\nA. Random fusion of gametes\\nB. Chromosome inversion\\nC. Gene mutation\\nD. Crossing over\\nAnswer: C\\n'), Document(metadata={'subject': 'Biology'}, page_content='Q: Which of the following statements about natural selection is not true\\nOptions:\\nA. It is regional in nature\\nB. It affects variations that are heritable\\nC. It can improve the adaptation of species\\nD. It is selected by a breeder\\nAnswer: B\\n'), Document(metadata={'subject': 'Biology'}, page_content='Q: The formula calculating the frequency of genotypes and alleles in a population gene pool is known as:\\nOptions:\\nA. Lamarck Equation\\nB. Darwin Equation\\nC. James Hutton Equation\\nD. Hardy-Weinberg Equation\\nAnswer: A\\n'), Document(metadata={'subject': 'Biology'}, page_content='Q: The idea of inheritance of acquired characteristics was presented by:\\nOptions:\\nA. Charles Darwin\\nB. Jean Baptist Lamarck\\nC. Alfred Wallace\\nD. Thomas Malthus\\nAnswer: A\\n'), Document(metadata={'subject': 'Biology'}, page_content='Q: According to endosymbiosis theory, flagella may have derived by the ingestion of prokaryotes similar to:\\nOptions:\\nA. Amoeboid prokaryote\\nB. Aerobic bacterium\\nC. Spirillum\\nD. Spirochete\\nAnswer: C\\n'), Document(metadata={'subject': 'Biology'}, page_content='Q: Insulin convert glucose into\\nOptions:\\nA. Cortisone\\nB. Vitamins\\nC. Lipids\\nD. Minerals\\nAnswer: C\\n'), Document(metadata={'subject': 'Biology'}, page_content='Q: About 70% of the carbon dioxide is carried in blood as:\\nOptions:\\nA. Carbonate\\nB. Carbonic anhydrase\\nC. Bicarbonate\\nD. Thiocarbonate\\nAnswer: B\\n'), Document(metadata={'subject': 'Biology'}, page_content='Q: Range of normal total lung capacity in humans is:\\nOptions:\\nA. 10-11 liter\\nB. 5-6 liter\\nC. 12-13 liter\\nD. 8-9 liter\\nAnswer: A\\n'), Document(metadata={'subject': 'Biology'}, page_content='Q: Respiration in Pseudomonas bacteria is\\nOptions:\\nA. Microaerophilic\\nB. Aerobic\\nC. Facultative\\nD. Anaerobic\\nAnswer: A\\n'), Document(metadata={'subject': 'Biology'}, page_content='Q: Autotrophic mode of nutrition in organism depends upon\\nOptions:\\nA. Photosynthesis mode\\nB. Saprotrophic mode\\nC. Parasitic mode\\nD. Obligate mode\\nAnswer: C\\n'), Document(metadata={'subject': 'Biology'}, page_content='Q: Prokaryotic cells lack\\nOptions:\\nA. Storage bodies\\nB. Membrane bound organelles\\nC. Ribosomes\\nD. Mesosomes\\nAnswer: D\\n'), Document(metadata={'subject': 'Biology'}, page_content='Q: Bacterial genome becomes diploid:\\nOptions:\\nA. During binary fission\\nB. After fertilization of gametes\\nC. After binary fission\\nD. Before spore formation\\nAnswer: C\\n'), Document(metadata={'subject': 'Biology'}, page_content='Q: One of the following Is CORRECT regarding flagella:\\nOptions:\\nA. They are Immotile\\nB. Originates from basal bodies\\nC. Made up of macrofilaments\\nD. Contains centriole\\nAnswer: C\\n'), Document(metadata={'subject': 'Biology'}, page_content='Q: Which option Is CORRECT about endospore\\nOptions:\\nA. Has a short dormant period\\nB. Endures extreme condition\\nC. Contains moisture for survival\\nD. Metabolically actively\\nAnswer: D\\n'), Document(metadata={'subject': 'Biology'}, page_content='Q: Bacteria divide at exponential rate during which growth phase\\nOptions:\\nA. Log\\nB. Decline\\nC. Lag\\nD. Stationary\\nAnswer: B\\n'), Document(metadata={'subject': 'Biology'}, page_content='Q: Mesosomes are the invagination of bacterial cell structure\\nOptions:\\nA. Plasmid\\nB. Cell wall\\nC. Cysts\\nD. Cell membrane\\nAnswer: B\\n'), Document(metadata={'subject': 'Biology'}, page_content='Q: Female reproductive system consists all of the following EXCEPT\\nOptions:\\nA. Cervix\\nB. Seminiferous tubules\\nC. Ovaries\\nD. Oviduct\\nAnswer: D\\n'), Document(metadata={'subject': 'Biology'}, page_content='Q: Which one of the following hormone Is responsible for the labor pains In human female at the time of birth of baby\\nOptions:\\nA. Corticosteroid\\nB. Estrogen\\nC. Progesterone\\nD. Oxytocin\\nAnswer: C\\n'), Document(metadata={'subject': 'Biology'}, page_content='Q: Fluid secreted by Sertoli cells provides liquid medium, protection and nourishment to:\\nOptions:\\nA. Sperms\\nB. Polar body\\nC. Spermatogonia\\nD. Oocyte\\nAnswer: B\\n'), Document(metadata={'subject': 'Biology'}, page_content='Q: Corpus luteum during female reproductive cycle produces\\nOptions:\\nA. Luteinizing Hormone\\nB. Testosterone\\nC. Follicle stimulating hormone\\nD. Progesterone\\nAnswer: D\\n'), Document(metadata={'subject': 'Biology'}, page_content='Q: Due to the process of follicle atresia:\\nOptions:\\nA. Graafian follicle ovulates\\nB. Follicles reach maximum size\\nC. Follicle degenerates\\nD. Follicle starts to mature\\nAnswer: B\\n'), Document(metadata={'subject': 'Biology'}, page_content='Q: Main function of the epididymis is to:\\nOptions:\\nA. Transport sperms\\nB. Connect with urethra\\nC. Hold the process of spermatogenesis\\nD. Produce semen\\nAnswer: A\\n'), Document(metadata={'subject': 'Biology'}, page_content='Q: Immediate next stage of spermatogonia differentiation is:\\nOptions:\\nA. Secondary spermatocyte\\nB. Primary spermatocytes\\nC. Spermatids\\nD. Sperms\\nAnswer: C\\n'), Document(metadata={'subject': 'Biology'}, page_content='Q: Which of the following is included In paired cranial bones\\nOptions:\\nA. Occipital\\nB. Temporal\\nC. Vomer\\nD. Frontal\\nAnswer: A\\n'), Document(metadata={'subject': 'Biology'}, page_content='Q: Which of the following skeletal disorder is an example of autoimmune disorder\\nOptions:\\nA. Rickets\\nB. Spondylosis\\nC. Rheumatoid arthritis\\nD. Sciatica\\nAnswer: C\\n'), Document(metadata={'subject': 'Biology'}, page_content='Q: Which feature is possessed by smooth muscles\\nOptions:\\nA. Striated appearance\\nB. Uni-nucleate\\nC. Branched\\nD. Voluntary\\nAnswer: C\\n'), Document(metadata={'subject': 'Biology'}, page_content='Q: The accumulation of â€˜lactic acidâ€™ in the muscles results in\\nOptions:\\nA. Extreme fatigue\\nB. Paralysis\\nC. Convulsion\\nD. Muscle contraction\\nAnswer: A\\n'), Document(metadata={'subject': 'Biology'}, page_content='Q: Thick filaments in skeletal muscles are composed of:\\nOptions:\\nA. Myosin\\nB. Troponin\\nC. Tropomyosin\\nD. Actin\\nAnswer: B\\n'), Document(metadata={'subject': 'Biology'}, page_content='Q: Sarcomere is part of myofibril between:\\nOptions:\\nA. Two I bands\\nB. Two M lines\\nC. Two Z lines\\nD. Two A bands\\nAnswer: D\\n'), Document(metadata={'subject': 'Biology'}, page_content='Q: Medulla Oblongata is a part of:\\nOptions:\\nA. Hind brain\\nB. Mid brain\\nC. Forebrain\\nD. Hippocampus\\nAnswer: C\\n'), Document(metadata={'subject': 'Biology'}, page_content='Q: Which of the following is NOT a bone of upper limb\\nOptions:\\nA. Ulna\\nB. Radius\\nC. Humerus\\nD. Femur\\nAnswer: C\\n'), Document(metadata={'subject': 'Biology'}, page_content='Q: Bone forming cells are:\\nOptions:\\nA. Osteocytes\\nB. Osteons\\nC. Osteoblasts\\nD. Osteoclasts\\nAnswer: A\\n'), Document(metadata={'subject': 'Biology'}, page_content='Q: The chromosomes was first observed by;\\nOptions:\\nA. Mendel\\nB. Griffith\\nC. Walther\\nD. T. H Morgan\\nAnswer: C\\n'), Document(metadata={'subject': 'Chemistry'}, page_content='Q: Number of moles in an element is directly proportional to:\\nOptions:\\nA. Molar mass of an element\\nB. Empirical formula mass\\nC. Mass of an element\\nD. Formula mass\\nAnswer: A\\n'), Document(metadata={'subject': 'Chemistry'}, page_content='Q: The type and relative amount of each isotope in an element can be found by:\\nOptions:\\nA. N.M.R\\nB. R spectroscopy\\nC. U. V spectroscopy\\nD. Mass Spectrometry\\nAnswer: C\\n'), Document(metadata={'subject': 'Chemistry'}, page_content='Q: The atomic masses of element depend upon:\\nOptions:\\nA. Number of isotopes & their abundance\\nB. Atomic number\\nC. None of the them\\nD. Number of electrons\\nAnswer: D\\n'), Document(metadata={'subject': 'Chemistry'}, page_content='Q: No individual atom in the sample of 1 mole of Neon has a mass of 20.18 a.m.u. because it is:\\nOptions:\\nA. Overall mass of an isobar\\nB. It is a fractional mass\\nC. It is molar mass of Ne\\nD. Average atomic mass of Ne\\nAnswer: D\\n'), Document(metadata={'subject': 'Chemistry'}, page_content='Q: The p orbital has:\\nOptions:\\nA. 5 Lobes\\nB. 2 Lobes\\nC. 3 Lobes\\nD. 4 Lobes\\nAnswer: A\\n'), Document(metadata={'subject': 'Chemistry'}, page_content='Q: Which of the following electronic configuration is correct for carbon\\nOptions:\\nA. 1s2 2s2 2p2\\nB. 1s2 2s2 2p4\\nC. 1s2 2s2 2p3\\nD. 1s2 2s2 2p1\\nAnswer: C\\n'), Document(metadata={'subject': 'Chemistry'}, page_content='Q: Intermolecular forces between molecules of ideal gas are:\\nOptions:\\nA. Absent\\nB. Moderate\\nC. Strong\\nD. Weak\\nAnswer: D\\n'), Document(metadata={'subject': 'Chemistry'}, page_content='Q: The correct ideal gas equation is:\\nOptions:\\nA. yV=nRt\\nB. pV=nRt\\nC. gV=nRt\\nD. qV=nRt\\nAnswer: B\\n'), Document(metadata={'subject': 'Chemistry'}, page_content='Q: The real gases show deviation from ideal behavior at:\\nOptions:\\nA. High temperature and high pressure\\nB. Low temperature and low pressure\\nC. High temperature and low pressure\\nD. Low temperature and high pressure\\nAnswer: C\\n'), Document(metadata={'subject': 'Chemistry'}, page_content='Q: In order to boil water at 110Â°C, external pressure should be:\\nOptions:\\nA. 660-700 torr\\nB. 760 â€“ 1200 torr\\nC. 665-670 torr\\nD. 200 â€“ 760 torr\\nAnswer: B\\n'), Document(metadata={'subject': 'Chemistry'}, page_content='Q: Which one of the following DO NOT have tendency to form hydrogen bonding\\nOptions:\\nA. Ammonia\\nB. Ethyl alcohol\\nC. Hydrocarbon\\nD. Carboxylic acid\\nAnswer: D\\n'), Document(metadata={'subject': 'Chemistry'}, page_content='Q: Boiling point of a liquid is a temperature at which:\\nOptions:\\nA. Vapor pressure equals the atmospheric pressure\\nB. Surface tension Is greater than the atmospheric pressure\\nC. Viscosity equals the atmospheric pressure\\nD. Viscosity is less than the atmospheric pressure\\nAnswer: C\\n'), Document(metadata={'subject': 'Chemistry'}, page_content='Q: Whenever the crystalline solids are broken they do so along definite planes known as:\\nOptions:\\nA. Sagittal planes\\nB. Refractory planes\\nC. Cleavage planes\\nD. Coronal planes\\nAnswer: A\\n'), Document(metadata={'subject': 'Chemistry'}, page_content='Q: One of the following Is NOT an example of amorphous solids\\nOptions:\\nA. Rubber\\nB. Plastic\\nC. Glucose\\nD. Glass\\nAnswer: C\\n'), Document(metadata={'subject': 'Chemistry'}, page_content='Q: In graphite the carbon atoms are arranged in which of the following structure\\nOptions:\\nA. Rhombic\\nB. Trigonal\\nC. Tetragonal\\nD. Hexagonal\\nAnswer: B\\n'), Document(metadata={'subject': 'Chemistry'}, page_content='Q: The principle that states that if a stress is applied to a system at equilibrium the system nullify the effect of stress as far as possible is:\\nOptions:\\nA. Charles\\nB. Boyleâ€™s\\nC. Haberâ€™s\\nD. Le-Chatelier\\nAnswer: B\\n'), Document(metadata={'subject': 'Chemistry'}, page_content='Q: Identify the CORRECT option required for the maximum yield of ammonia by Haberâ€™s Process:\\nOptions:\\nA. High pressure high temperature continual removal of ammonia\\nB. Low pressure low temperature continual removal of ammonia\\nC. High pressure low temperature continual removal of ammonia\\nD. High pressure low temperature continual addition of ammonia\\nAnswer: A\\n'), Document(metadata={'subject': 'Chemistry'}, page_content='Q: Consider the following reaction in equilibrium turn the cloudy solution into clear solution\\nOptions:\\nA. A\\nB. C\\nC. D\\nD. B\\nAnswer: D\\n'), Document(metadata={'subject': 'Chemistry'}, page_content='Q: Identify the correct formula to calculate rate of reaction:\\nOptions:\\nA. Change in concentration of substance Ã· Time taken for the change\\nB. Time taken for the change x concentration of substance\\nC. Time taken for the change Ã· Change in concentration of substance\\nD. Time taken for the change + concentration of substance x 100\\nAnswer: A\\n'), Document(metadata={'subject': 'Chemistry'}, page_content='Q: nan\\nOptions:\\nA. nan\\nB. nan\\nC. nan\\nD. nan\\nAnswer: B\\n'), Document(metadata={'subject': 'Chemistry'}, page_content='Q: nan\\nOptions:\\nA. nan\\nB. nan\\nC. nan\\nD. nan\\nAnswer: D\\n'), Document(metadata={'subject': 'Chemistry'}, page_content='Q: nan\\nOptions:\\nA. nan\\nB. nan\\nC. nan\\nD. nan\\nAnswer: B\\n'), Document(metadata={'subject': 'Chemistry'}, page_content='Q: nan\\nOptions:\\nA. nan\\nB. nan\\nC. nan\\nD. nan\\nAnswer: C\\n'), Document(metadata={'subject': 'Chemistry'}, page_content='Q: nan\\nOptions:\\nA. nan\\nB. nan\\nC. nan\\nD. nan\\nAnswer: C\\n'), Document(metadata={'subject': 'Chemistry'}, page_content='Q: nan\\nOptions:\\nA. nan\\nB. nan\\nC. nan\\nD. nan\\nAnswer: D\\n'), Document(metadata={'subject': 'Chemistry'}, page_content='Q: nan\\nOptions:\\nA. nan\\nB. nan\\nC. nan\\nD. nan\\nAnswer: D\\n'), Document(metadata={'subject': 'Chemistry'}, page_content='Q: nan\\nOptions:\\nA. nan\\nB. nan\\nC. nan\\nD. nan\\nAnswer: A\\n'), Document(metadata={'subject': 'Chemistry'}, page_content='Q: nan\\nOptions:\\nA. nan\\nB. nan\\nC. nan\\nD. nan\\nAnswer: C\\n'), Document(metadata={'subject': 'Chemistry'}, page_content='Q: nan\\nOptions:\\nA. nan\\nB. nan\\nC. nan\\nD. nan\\nAnswer: C\\n'), Document(metadata={'subject': 'Chemistry'}, page_content='Q: nan\\nOptions:\\nA. nan\\nB. nan\\nC. nan\\nD. nan\\nAnswer: D\\n'), Document(metadata={'subject': 'Chemistry'}, page_content='Q: nan\\nOptions:\\nA. nan\\nB. nan\\nC. nan\\nD. nan\\nAnswer: B\\n'), Document(metadata={'subject': 'Chemistry'}, page_content='Q: nan\\nOptions:\\nA. nan\\nB. nan\\nC. nan\\nD. nan\\nAnswer: D\\n'), Document(metadata={'subject': 'Chemistry'}, page_content='Q: nan\\nOptions:\\nA. nan\\nB. nan\\nC. nan\\nD. nan\\nAnswer: A\\n'), Document(metadata={'subject': 'Chemistry'}, page_content='Q: nan\\nOptions:\\nA. nan\\nB. nan\\nC. nan\\nD. nan\\nAnswer: B\\n'), Document(metadata={'subject': 'Chemistry'}, page_content='Q: nan\\nOptions:\\nA. nan\\nB. nan\\nC. nan\\nD. nan\\nAnswer: D\\n'), Document(metadata={'subject': 'Chemistry'}, page_content='Q: nan\\nOptions:\\nA. nan\\nB. nan\\nC. nan\\nD. nan\\nAnswer: C\\n'), Document(metadata={'subject': 'Chemistry'}, page_content='Q: nan\\nOptions:\\nA. nan\\nB. nan\\nC. nan\\nD. nan\\nAnswer: D\\n'), Document(metadata={'subject': 'Chemistry'}, page_content='Q: nan\\nOptions:\\nA. nan\\nB. nan\\nC. nan\\nD. nan\\nAnswer: B\\n'), Document(metadata={'subject': 'Chemistry'}, page_content='Q: nan\\nOptions:\\nA. nan\\nB. nan\\nC. nan\\nD. nan\\nAnswer: C\\n'), Document(metadata={'subject': 'Chemistry'}, page_content='Q: nan\\nOptions:\\nA. nan\\nB. nan\\nC. nan\\nD. nan\\nAnswer: A\\n'), Document(metadata={'subject': 'Chemistry'}, page_content='Q: nan\\nOptions:\\nA. nan\\nB. nan\\nC. nan\\nD. nan\\nAnswer: C\\n'), Document(metadata={'subject': 'Chemistry'}, page_content='Q: nan\\nOptions:\\nA. nan\\nB. nan\\nC. nan\\nD. nan\\nAnswer: B\\n'), Document(metadata={'subject': 'Chemistry'}, page_content='Q: nan\\nOptions:\\nA. nan\\nB. nan\\nC. nan\\nD. nan\\nAnswer: A\\n'), Document(metadata={'subject': 'Chemistry'}, page_content='Q: nan\\nOptions:\\nA. nan\\nB. nan\\nC. nan\\nD. nan\\nAnswer: B\\n'), Document(metadata={'subject': 'Chemistry'}, page_content='Q: nan\\nOptions:\\nA. nan\\nB. nan\\nC. nan\\nD. nan\\nAnswer: B\\n'), Document(metadata={'subject': 'Chemistry'}, page_content='Q: nan\\nOptions:\\nA. nan\\nB. nan\\nC. nan\\nD. nan\\nAnswer: B\\n'), Document(metadata={'subject': 'Chemistry'}, page_content='Q: nan\\nOptions:\\nA. nan\\nB. nan\\nC. nan\\nD. nan\\nAnswer: C\\n'), Document(metadata={'subject': 'Chemistry'}, page_content='Q: nan\\nOptions:\\nA. nan\\nB. nan\\nC. nan\\nD. nan\\nAnswer: B\\n'), Document(metadata={'subject': 'Chemistry'}, page_content='Q: nan\\nOptions:\\nA. nan\\nB. nan\\nC. nan\\nD. nan\\nAnswer: A\\n'), Document(metadata={'subject': 'Chemistry'}, page_content='Q: nan\\nOptions:\\nA. nan\\nB. nan\\nC. nan\\nD. nan\\nAnswer: D\\n'), Document(metadata={'subject': 'Chemistry'}, page_content='Q: nan\\nOptions:\\nA. nan\\nB. nan\\nC. nan\\nD. nan\\nAnswer: B\\n'), Document(metadata={'subject': 'Chemistry'}, page_content='Q: nan\\nOptions:\\nA. nan\\nB. nan\\nC. nan\\nD. nan\\nAnswer: B\\n'), Document(metadata={'subject': 'Chemistry'}, page_content='Q: nan\\nOptions:\\nA. nan\\nB. nan\\nC. nan\\nD. nan\\nAnswer: C\\n'), Document(metadata={'subject': 'Chemistry'}, page_content='Q: nan\\nOptions:\\nA. nan\\nB. nan\\nC. nan\\nD. nan\\nAnswer: A\\n'), Document(metadata={'subject': 'Physics'}, page_content='Q: nan\\nOptions:\\nA. nan\\nB. nan\\nC. nan\\nD. nan\\nAnswer: D\\n'), Document(metadata={'subject': 'Physics'}, page_content='Q: nan\\nOptions:\\nA. nan\\nB. nan\\nC. nan\\nD. nan\\nAnswer: A\\n'), Document(metadata={'subject': 'Physics'}, page_content='Q: nan\\nOptions:\\nA. nan\\nB. nan\\nC. nan\\nD. nan\\nAnswer: B\\n'), Document(metadata={'subject': 'Physics'}, page_content='Q: nan\\nOptions:\\nA. nan\\nB. nan\\nC. nan\\nD. nan\\nAnswer: C\\n'), Document(metadata={'subject': 'Physics'}, page_content='Q: nan\\nOptions:\\nA. nan\\nB. nan\\nC. nan\\nD. nan\\nAnswer: C\\n'), Document(metadata={'subject': 'Physics'}, page_content='Q: nan\\nOptions:\\nA. nan\\nB. nan\\nC. nan\\nD. nan\\nAnswer: B\\n'), Document(metadata={'subject': 'Physics'}, page_content='Q: nan\\nOptions:\\nA. nan\\nB. nan\\nC. nan\\nD. nan\\nAnswer: C\\n'), Document(metadata={'subject': 'Physics'}, page_content='Q: nan\\nOptions:\\nA. nan\\nB. nan\\nC. nan\\nD. nan\\nAnswer: A\\n'), Document(metadata={'subject': 'Physics'}, page_content='Q: nan\\nOptions:\\nA. nan\\nB. nan\\nC. nan\\nD. nan\\nAnswer: A\\n'), Document(metadata={'subject': 'Physics'}, page_content='Q: nan\\nOptions:\\nA. nan\\nB. nan\\nC. nan\\nD. nan\\nAnswer: A\\n'), Document(metadata={'subject': 'Physics'}, page_content='Q: nan\\nOptions:\\nA. nan\\nB. nan\\nC. nan\\nD. nan\\nAnswer: B\\n'), Document(metadata={'subject': 'Physics'}, page_content='Q: nan\\nOptions:\\nA. nan\\nB. nan\\nC. nan\\nD. nan\\nAnswer: A\\n'), Document(metadata={'subject': 'Physics'}, page_content='Q: nan\\nOptions:\\nA. nan\\nB. nan\\nC. nan\\nD. nan\\nAnswer: B\\n'), Document(metadata={'subject': 'Physics'}, page_content='Q: nan\\nOptions:\\nA. nan\\nB. nan\\nC. nan\\nD. nan\\nAnswer: D\\n'), Document(metadata={'subject': 'Physics'}, page_content='Q: nan\\nOptions:\\nA. nan\\nB. nan\\nC. nan\\nD. nan\\nAnswer: D\\n'), Document(metadata={'subject': 'Physics'}, page_content='Q: nan\\nOptions:\\nA. nan\\nB. nan\\nC. nan\\nD. nan\\nAnswer: D\\n'), Document(metadata={'subject': 'Physics'}, page_content='Q: nan\\nOptions:\\nA. nan\\nB. nan\\nC. nan\\nD. nan\\nAnswer: D\\n'), Document(metadata={'subject': 'Physics'}, page_content='Q: nan\\nOptions:\\nA. nan\\nB. nan\\nC. nan\\nD. nan\\nAnswer: B\\n'), Document(metadata={'subject': 'Physics'}, page_content='Q: nan\\nOptions:\\nA. nan\\nB. nan\\nC. nan\\nD. nan\\nAnswer: C\\n'), Document(metadata={'subject': 'Physics'}, page_content='Q: nan\\nOptions:\\nA. nan\\nB. nan\\nC. nan\\nD. nan\\nAnswer: A\\n'), Document(metadata={'subject': 'Physics'}, page_content='Q: nan\\nOptions:\\nA. nan\\nB. nan\\nC. nan\\nD. nan\\nAnswer: C\\n'), Document(metadata={'subject': 'Physics'}, page_content='Q: nan\\nOptions:\\nA. nan\\nB. nan\\nC. nan\\nD. nan\\nAnswer: B\\n'), Document(metadata={'subject': 'Physics'}, page_content='Q: nan\\nOptions:\\nA. nan\\nB. nan\\nC. nan\\nD. nan\\nAnswer: C\\n'), Document(metadata={'subject': 'Physics'}, page_content='Q: nan\\nOptions:\\nA. nan\\nB. nan\\nC. nan\\nD. nan\\nAnswer: B\\n'), Document(metadata={'subject': 'Physics'}, page_content='Q: nan\\nOptions:\\nA. nan\\nB. nan\\nC. nan\\nD. nan\\nAnswer: C\\n'), Document(metadata={'subject': 'Physics'}, page_content='Q: nan\\nOptions:\\nA. nan\\nB. nan\\nC. nan\\nD. nan\\nAnswer: C\\n'), Document(metadata={'subject': 'Physics'}, page_content='Q: nan\\nOptions:\\nA. nan\\nB. nan\\nC. nan\\nD. nan\\nAnswer: B\\n'), Document(metadata={'subject': 'Physics'}, page_content='Q: nan\\nOptions:\\nA. nan\\nB. nan\\nC. nan\\nD. nan\\nAnswer: B\\n'), Document(metadata={'subject': 'Physics'}, page_content='Q: nan\\nOptions:\\nA. nan\\nB. nan\\nC. nan\\nD. nan\\nAnswer: B\\n'), Document(metadata={'subject': 'Physics'}, page_content='Q: nan\\nOptions:\\nA. nan\\nB. nan\\nC. nan\\nD. nan\\nAnswer: A\\n'), Document(metadata={'subject': 'Physics'}, page_content='Q: nan\\nOptions:\\nA. nan\\nB. nan\\nC. nan\\nD. nan\\nAnswer: C\\n'), Document(metadata={'subject': 'Physics'}, page_content='Q: nan\\nOptions:\\nA. nan\\nB. nan\\nC. nan\\nD. nan\\nAnswer: C\\n'), Document(metadata={'subject': 'Physics'}, page_content='Q: nan\\nOptions:\\nA. nan\\nB. nan\\nC. nan\\nD. nan\\nAnswer: B\\n'), Document(metadata={'subject': 'Physics'}, page_content='Q: nan\\nOptions:\\nA. nan\\nB. nan\\nC. nan\\nD. nan\\nAnswer: D\\n'), Document(metadata={'subject': 'Physics'}, page_content='Q: nan\\nOptions:\\nA. nan\\nB. nan\\nC. nan\\nD. nan\\nAnswer: B\\n'), Document(metadata={'subject': 'Physics'}, page_content='Q: nan\\nOptions:\\nA. nan\\nB. nan\\nC. nan\\nD. nan\\nAnswer: D\\n'), Document(metadata={'subject': 'Physics'}, page_content='Q: nan\\nOptions:\\nA. nan\\nB. nan\\nC. nan\\nD. nan\\nAnswer: C\\n'), Document(metadata={'subject': 'Physics'}, page_content='Q: nan\\nOptions:\\nA. nan\\nB. nan\\nC. nan\\nD. nan\\nAnswer: C\\n'), Document(metadata={'subject': 'Physics'}, page_content='Q: nan\\nOptions:\\nA. nan\\nB. nan\\nC. nan\\nD. nan\\nAnswer: B\\n'), Document(metadata={'subject': 'Physics'}, page_content='Q: nan\\nOptions:\\nA. nan\\nB. nan\\nC. nan\\nD. nan\\nAnswer: B\\n'), Document(metadata={'subject': 'Physics'}, page_content='Q: nan\\nOptions:\\nA. nan\\nB. nan\\nC. nan\\nD. nan\\nAnswer: A\\n'), Document(metadata={'subject': 'Physics'}, page_content='Q: nan\\nOptions:\\nA. nan\\nB. nan\\nC. nan\\nD. nan\\nAnswer: A\\n'), Document(metadata={'subject': 'Physics'}, page_content='Q: nan\\nOptions:\\nA. nan\\nB. nan\\nC. nan\\nD. nan\\nAnswer: D\\n'), Document(metadata={'subject': 'Physics'}, page_content='Q: nan\\nOptions:\\nA. nan\\nB. nan\\nC. nan\\nD. nan\\nAnswer: C\\n'), Document(metadata={'subject': 'Physics'}, page_content='Q: nan\\nOptions:\\nA. nan\\nB. nan\\nC. nan\\nD. nan\\nAnswer: A\\n'), Document(metadata={'subject': 'Physics'}, page_content='Q: nan\\nOptions:\\nA. nan\\nB. nan\\nC. nan\\nD. nan\\nAnswer: A\\n'), Document(metadata={'subject': 'Physics'}, page_content='Q: nan\\nOptions:\\nA. nan\\nB. nan\\nC. nan\\nD. nan\\nAnswer: B\\n'), Document(metadata={'subject': 'Physics'}, page_content='Q: nan\\nOptions:\\nA. nan\\nB. nan\\nC. nan\\nD. nan\\nAnswer: A\\n'), Document(metadata={'subject': 'Physics'}, page_content='Q: nan\\nOptions:\\nA. nan\\nB. nan\\nC. nan\\nD. nan\\nAnswer: B\\n'), Document(metadata={'subject': 'Physics'}, page_content='Q: nan\\nOptions:\\nA. nan\\nB. nan\\nC. nan\\nD. nan\\nAnswer: A\\n'), Document(metadata={'subject': 'Physics'}, page_content='Q: nan\\nOptions:\\nA. nan\\nB. nan\\nC. nan\\nD. nan\\nAnswer: C\\n'), Document(metadata={'subject': 'Physics'}, page_content='Q: nan\\nOptions:\\nA. nan\\nB. nan\\nC. nan\\nD. nan\\nAnswer: B\\n'), Document(metadata={'subject': 'Physics'}, page_content='Q: nan\\nOptions:\\nA. nan\\nB. nan\\nC. nan\\nD. nan\\nAnswer: D\\n'), Document(metadata={'subject': 'Physics'}, page_content='Q: nan\\nOptions:\\nA. nan\\nB. nan\\nC. nan\\nD. nan\\nAnswer: C\\n'), Document(metadata={'subject': 'English'}, page_content='Q: nan\\nOptions:\\nA. nan\\nB. nan\\nC. nan\\nD. nan\\nAnswer: A\\n'), Document(metadata={'subject': 'English'}, page_content='Q: nan\\nOptions:\\nA. nan\\nB. nan\\nC. nan\\nD. nan\\nAnswer: C\\n'), Document(metadata={'subject': 'English'}, page_content='Q: nan\\nOptions:\\nA. nan\\nB. nan\\nC. nan\\nD. nan\\nAnswer: D\\n'), Document(metadata={'subject': 'English'}, page_content='Q: nan\\nOptions:\\nA. nan\\nB. nan\\nC. nan\\nD. nan\\nAnswer: C\\n'), Document(metadata={'subject': 'English'}, page_content='Q: nan\\nOptions:\\nA. nan\\nB. nan\\nC. nan\\nD. nan\\nAnswer: B\\n'), Document(metadata={'subject': 'English'}, page_content='Q: nan\\nOptions:\\nA. nan\\nB. nan\\nC. nan\\nD. nan\\nAnswer: A\\n'), Document(metadata={'subject': 'English'}, page_content='Q: nan\\nOptions:\\nA. nan\\nB. nan\\nC. nan\\nD. nan\\nAnswer: B\\n'), Document(metadata={'subject': 'English'}, page_content='Q: nan\\nOptions:\\nA. nan\\nB. nan\\nC. nan\\nD. nan\\nAnswer: A\\n'), Document(metadata={'subject': 'English'}, page_content='Q: nan\\nOptions:\\nA. nan\\nB. nan\\nC. nan\\nD. nan\\nAnswer: A\\n'), Document(metadata={'subject': 'English'}, page_content='Q: nan\\nOptions:\\nA. nan\\nB. nan\\nC. nan\\nD. nan\\nAnswer: A\\n'), Document(metadata={'subject': 'English'}, page_content='Q: nan\\nOptions:\\nA. nan\\nB. nan\\nC. nan\\nD. nan\\nAnswer: A\\n'), Document(metadata={'subject': 'English'}, page_content='Q: nan\\nOptions:\\nA. nan\\nB. nan\\nC. nan\\nD. nan\\nAnswer: C\\n'), Document(metadata={'subject': 'English'}, page_content='Q: nan\\nOptions:\\nA. nan\\nB. nan\\nC. nan\\nD. nan\\nAnswer: B\\n'), Document(metadata={'subject': 'English'}, page_content='Q: nan\\nOptions:\\nA. nan\\nB. nan\\nC. nan\\nD. nan\\nAnswer: C\\n'), Document(metadata={'subject': 'English'}, page_content='Q: nan\\nOptions:\\nA. nan\\nB. nan\\nC. nan\\nD. nan\\nAnswer: A\\n'), Document(metadata={'subject': 'English'}, page_content='Q: nan\\nOptions:\\nA. nan\\nB. nan\\nC. nan\\nD. nan\\nAnswer: B\\n'), Document(metadata={'subject': 'English'}, page_content='Q: nan\\nOptions:\\nA. nan\\nB. nan\\nC. nan\\nD. nan\\nAnswer: A\\n'), Document(metadata={'subject': 'English'}, page_content='Q: nan\\nOptions:\\nA. nan\\nB. nan\\nC. nan\\nD. nan\\nAnswer: C\\n'), Document(metadata={'subject': 'General Knowledge'}, page_content='Q: nan\\nOptions:\\nA. nan\\nB. nan\\nC. nan\\nD. nan\\nAnswer: A\\n'), Document(metadata={'subject': 'General Knowledge'}, page_content='Q: nan\\nOptions:\\nA. nan\\nB. nan\\nC. nan\\nD. nan\\nAnswer: A\\n'), Document(metadata={'subject': 'General Knowledge'}, page_content='Q: nan\\nOptions:\\nA. nan\\nB. nan\\nC. nan\\nD. nan\\nAnswer: B\\n'), Document(metadata={'subject': 'General Knowledge'}, page_content='Q: nan\\nOptions:\\nA. nan\\nB. nan\\nC. nan\\nD. nan\\nAnswer: B\\n'), Document(metadata={'subject': 'General Knowledge'}, page_content='Q: nan\\nOptions:\\nA. nan\\nB. nan\\nC. nan\\nD. nan\\nAnswer: A\\n'), Document(metadata={'subject': 'General Knowledge'}, page_content='Q: nan\\nOptions:\\nA. nan\\nB. nan\\nC. nan\\nD. nan\\nAnswer: B\\n')]\n"
     ]
    }
   ],
   "source": [
    "# Step 1: Load CSV Data\n",
    "df = pd.read_csv(\"input_data/UHS_24.csv\")  # Ensure the correct delimiter is used (default is ',').\n",
    "\n",
    "# Step 2: Prepare Chunks for Each MCQ\n",
    "def create_chunks(row):\n",
    "    question = f\"Q: {row['Question']}\\n\"\n",
    "    options = (\n",
    "        f\"Options:\\nA. {row['Option 1']}\\nB. {row['Option 2']}\\n\"\n",
    "        f\"C. {row['Option 3']}\\nD. {row['Option 4']}\\n\"\n",
    "    )\n",
    "    answer = f\"Answer: {row['Answers']}\\n\"\n",
    "    chunk = question + options + answer\n",
    "    metadata = {\"subject\": row[\"Subjects\"]}\n",
    "    return Document(page_content=chunk, metadata=metadata)\n",
    "\n",
    "# Step 3: Create a List of Documents (Chunks)\n",
    "docs = [create_chunks(row) for _, row in df.iterrows() if row['Answers'] != \"Deleted\"]\n",
    "\n",
    "print(docs)"
   ]
  },
  {
   "cell_type": "code",
   "execution_count": 5,
   "metadata": {},
   "outputs": [
    {
     "name": "stderr",
     "output_type": "stream",
     "text": [
      "C:\\Users\\zubay\\AppData\\Local\\Temp\\ipykernel_15080\\43739810.py:2: LangChainDeprecationWarning: The class `HuggingFaceEmbeddings` was deprecated in LangChain 0.2.2 and will be removed in 1.0. An updated version of the class exists in the :class:`~langchain-huggingface package and should be used instead. To use it run `pip install -U :class:`~langchain-huggingface` and import as `from :class:`~langchain_huggingface import HuggingFaceEmbeddings``.\n",
      "  embedding_model = HuggingFaceEmbeddings(model_name=\"sentence-transformers/all-MiniLM-L6-v2\")\n",
      "c:\\Users\\zubay\\.conda\\envs\\fyp\\Lib\\site-packages\\sentence_transformers\\cross_encoder\\CrossEncoder.py:13: TqdmWarning: IProgress not found. Please update jupyter and ipywidgets. See https://ipywidgets.readthedocs.io/en/stable/user_install.html\n",
      "  from tqdm.autonotebook import tqdm, trange\n",
      "c:\\Users\\zubay\\.conda\\envs\\fyp\\Lib\\site-packages\\transformers\\tokenization_utils_base.py:1617: FutureWarning: `clean_up_tokenization_spaces` was not set. It will be set to `True` by default. This behavior will be deprecated in transformers v4.45, and will be then set to `False` by default. For more details check this issue: https://github.com/huggingface/transformers/issues/31884\n",
      "  warnings.warn(\n"
     ]
    }
   ],
   "source": [
    "# Step 4: Set up Embeddings and Vector Store\n",
    "embedding_model = HuggingFaceEmbeddings(model_name=\"sentence-transformers/all-MiniLM-L6-v2\")\n",
    "persist_directory = \"uhs_24_chroma_store\"\n",
    "\n",
    "# # Load or Create Chroma Vector Store\n",
    "if not os.path.exists(persist_directory):\n",
    "    vector_store = Chroma.from_documents(docs, embedding_model, persist_directory=persist_directory)\n",
    "else:\n",
    "    vector_store = Chroma(persist_directory=persist_directory, embedding_function=embedding_model)"
   ]
  },
  {
   "cell_type": "code",
   "execution_count": 6,
   "metadata": {},
   "outputs": [],
   "source": [
    "# # Step 5: Initialize the LLM and RetrievalQA System\n",
    "llm = ChatGroq(model=\"llama-3.1-70b-versatile\", temperature=0.7)"
   ]
  },
  {
   "cell_type": "code",
   "execution_count": 7,
   "metadata": {},
   "outputs": [],
   "source": [
    "retriever = vector_store.as_retriever()\n",
    "qa_system = RetrievalQA.from_chain_type(llm=llm, retriever=retriever)"
   ]
  },
  {
   "cell_type": "code",
   "execution_count": 8,
   "metadata": {},
   "outputs": [],
   "source": [
    "# # Step 6: Generate Questions with Structured Formatting\n",
    "def generate_question_paper(qa_system, num_questions=10):\n",
    "    for i in range(num_questions):\n",
    "        prompt = (\n",
    "            f\"Generate {num_questions} multiple choice question based on retrieved multiple choice questions \"\n",
    "            \"The question should be structured clearly for an exam, \"\n",
    "            \"with options labeled as A, B, C, D. Provide a challenging but fair question.\"\n",
    "        )\n",
    "        # try:\n",
    "        #     response = qa_system.run(prompt)\n",
    "        #     questions.append(f\"Q{i + 1}:\\n{response}\\n\\n\")\n",
    "        # except Exception as e:\n",
    "        #     print(f\"Error generating question {i + 1}: {e}\")\n",
    "        #     questions.append(f\"Q{i + 1}:\\n[Error generating this question]\\n\\n\")\n",
    "    response = qa_system.run(prompt)\n",
    "    return response"
   ]
  },
  {
   "cell_type": "code",
   "execution_count": 9,
   "metadata": {},
   "outputs": [],
   "source": [
    "# Step 7: Save the Questions to a File\n",
    "def save_question_paper(questions, filename=\"MCQ_Paper.txt\"):\n",
    "    with open(filename, \"w\") as file:\n",
    "        file.writelines(questions)\n",
    "    print(f\"Question paper generated and saved as '{filename}'.\")"
   ]
  },
  {
   "cell_type": "code",
   "execution_count": 10,
   "metadata": {},
   "outputs": [
    {
     "name": "stderr",
     "output_type": "stream",
     "text": [
      "C:\\Users\\zubay\\AppData\\Local\\Temp\\ipykernel_15080\\3076926759.py:15: LangChainDeprecationWarning: The method `Chain.run` was deprecated in langchain 0.1.0 and will be removed in 1.0. Use :meth:`~invoke` instead.\n",
      "  response = qa_system.run(prompt)\n"
     ]
    },
    {
     "name": "stdout",
     "output_type": "stream",
     "text": [
      "Question paper generated and saved as 'MCQ_Paper.txt'.\n"
     ]
    }
   ],
   "source": [
    "# Step 8: Generate and Save the Question Paper\n",
    "questions = generate_question_paper(qa_system, num_questions=10)\n",
    "save_question_paper(questions)\n"
   ]
  },
  {
   "cell_type": "code",
   "execution_count": null,
   "metadata": {},
   "outputs": [],
   "source": []
  }
 ],
 "metadata": {
  "kernelspec": {
   "display_name": "fyp",
   "language": "python",
   "name": "python3"
  },
  "language_info": {
   "codemirror_mode": {
    "name": "ipython",
    "version": 3
   },
   "file_extension": ".py",
   "mimetype": "text/x-python",
   "name": "python",
   "nbconvert_exporter": "python",
   "pygments_lexer": "ipython3",
   "version": "3.12.6"
  }
 },
 "nbformat": 4,
 "nbformat_minor": 2
}
