{
 "cells": [
  {
   "cell_type": "code",
   "execution_count": 15,
   "metadata": {},
   "outputs": [],
   "source": [
    "import os\n",
    "import PyPDF2\n",
    "from langchain_groq import ChatGroq\n",
    "from langchain.chains import RetrievalQA\n",
    "from langchain_community.embeddings import HuggingFaceEmbeddings\n",
    "from langchain_community.vectorstores import Chroma\n",
    "from langchain.text_splitter import RecursiveCharacterTextSplitter\n",
    "import gc\n",
    "import logging\n",
    "import warnings\n",
    "import re\n",
    "\n",
    "warnings.filterwarnings(\"ignore\", category=FutureWarning)\n",
    "warnings.filterwarnings(\"ignore\", category=UserWarning)\n",
    "\n",
    "# Set up logging\n",
    "logging.basicConfig(level=logging.INFO, format='%(asctime)s - %(levelname)s - %(message)s')"
   ]
  },
  {
   "cell_type": "code",
   "execution_count": 16,
   "metadata": {},
   "outputs": [],
   "source": [
    "os.environ[\"GROQ_API_KEY\"] = \"\"  # Replace with your actual Groq API key"
   ]
  },
  {
   "cell_type": "code",
   "execution_count": 17,
   "metadata": {},
   "outputs": [],
   "source": [
    "def extract_text_from_pdf(pdf_path):\n",
    "    try:\n",
    "        with open(pdf_path, 'rb') as file:\n",
    "            reader = PyPDF2.PdfReader(file)\n",
    "            text = \"\"\n",
    "            for page in reader.pages:\n",
    "                text += page.extract_text()\n",
    "        return text\n",
    "    except Exception as e:\n",
    "        logging.error(f\"Error extracting text from PDF: {e}\")\n",
    "        return \"\""
   ]
  },
  {
   "cell_type": "code",
   "execution_count": 18,
   "metadata": {},
   "outputs": [],
   "source": [
    "def create_qa_system(question_paper_path):\n",
    "    question_paper_text = extract_text_from_pdf(question_paper_path)\n",
    "\n",
    "    text_splitter = RecursiveCharacterTextSplitter(chunk_size=500, chunk_overlap=50)\n",
    "    texts = text_splitter.split_text(question_paper_text)\n",
    "\n",
    "    embeddings = HuggingFaceEmbeddings(model_name=\"sentence-transformers/all-mpnet-base-v2\")\n",
    "    db = Chroma.from_texts(texts, embeddings)\n",
    "\n",
    "    llm = ChatGroq(\n",
    "        model=\"llama-3.1-70b-versatile\",\n",
    "        temperature=0.2,\n",
    "        max_tokens=1000,  # Limit token generation\n",
    "    )\n",
    "\n",
    "    qa = RetrievalQA.from_chain_type(llm=llm, chain_type=\"stuff\", retriever=db.as_retriever(search_kwargs={\"k\": 2}))\n",
    "\n",
    "    return qa"
   ]
  },
  {
   "cell_type": "code",
   "execution_count": 19,
   "metadata": {},
   "outputs": [],
   "source": [
    "def evaluate_mcq_answer(qa_system, question_number, student_answer):\n",
    "    prompt = f\"\"\"\n",
    "    Referring to Multiple Choice Question {question_number}:\n",
    "    \n",
    "    Student's Answer: {student_answer}\n",
    "\n",
    "    Criteria:\n",
    "    1. Correctness: Is the answer correct? (1 point if correct, 0 if incorrect)\n",
    "    2. Validity: Is the response a valid option (A, B, C, or D)?\n",
    "\n",
    "    Instructions:\n",
    "    - Assign 1 point if the answer is correct and valid, 0 points otherwise.\n",
    "    - Provide a brief explanation (1-2 sentences) for the score.\n",
    "    - If the response is invalid, explain why and assign 0 points.\n",
    "\n",
    "    Format your response as follows:\n",
    "    Score: [0 or 1]\n",
    "    Explanation: [Your brief explanation]\n",
    "\n",
    "    Limit your entire response to 50 words.\n",
    "    \"\"\"\n",
    "    \n",
    "    try:\n",
    "        evaluation = qa_system.run(prompt)\n",
    "        return evaluation\n",
    "    except Exception as e:\n",
    "        logging.error(f\"Error during evaluation: {e}\")\n",
    "        return \"Error occurred during evaluation.\""
   ]
  },
  {
   "cell_type": "code",
   "execution_count": 20,
   "metadata": {},
   "outputs": [],
   "source": [
    "def parse_student_answers(student_answers_text):\n",
    "    answers = {}\n",
    "    # Split the text into lines\n",
    "    lines = student_answers_text.split('\\n')\n",
    "    \n",
    "    # Regular expression pattern to match \"number. letter\" format\n",
    "    pattern = r'(\\d+)\\.\\s*([A-D])'\n",
    "    \n",
    "    for line in lines:\n",
    "        # Use regex to find matches in each line\n",
    "        match = re.match(pattern, line.strip())\n",
    "        if match:\n",
    "            question_number = match.group(1)\n",
    "            answer = match.group(2)\n",
    "            answers[question_number] = answer\n",
    "    \n",
    "    return answers"
   ]
  },
  {
   "cell_type": "code",
   "execution_count": 21,
   "metadata": {},
   "outputs": [
    {
     "name": "stderr",
     "output_type": "stream",
     "text": [
      "2024-10-15 08:36:21,023 - INFO - Use pytorch device_name: cpu\n",
      "2024-10-15 08:36:21,024 - INFO - Load pretrained SentenceTransformer: sentence-transformers/all-mpnet-base-v2\n"
     ]
    },
    {
     "name": "stderr",
     "output_type": "stream",
     "text": [
      "2024-10-15 08:36:27,142 - WARNING - incorrect startxref pointer(1)\n",
      "2024-10-15 08:36:28,975 - INFO - HTTP Request: POST https://api.groq.com/openai/v1/chat/completions \"HTTP/1.1 200 OK\"\n"
     ]
    },
    {
     "name": "stdout",
     "output_type": "stream",
     "text": [
      "Evaluation for Question 1:\n",
      "Score: 0\n",
      "Explanation: The answer A) Mutualism is incorrect because in mutualism, both organisms benefit. The question asks for a relationship where one organism is harmed. A more suitable answer would be C) Parasitism, where one organism benefits and the other is harmed.\n",
      "\n",
      "--------------------------------------------------\n",
      "\n"
     ]
    },
    {
     "name": "stderr",
     "output_type": "stream",
     "text": [
      "2024-10-15 08:36:30,403 - INFO - HTTP Request: POST https://api.groq.com/openai/v1/chat/completions \"HTTP/1.1 200 OK\"\n"
     ]
    },
    {
     "name": "stdout",
     "output_type": "stream",
     "text": [
      "Evaluation for Question 2:\n",
      "Score: 0\n",
      "Explanation: The student's answer, B) Commensalism, is incorrect. In commensalism, one organism benefits and the other is not affected. The correct answer is C) Parasitism, where one organism benefits and the other is harmed.\n",
      "\n",
      "--------------------------------------------------\n",
      "\n"
     ]
    },
    {
     "name": "stderr",
     "output_type": "stream",
     "text": [
      "2024-10-15 08:36:32,246 - INFO - HTTP Request: POST https://api.groq.com/openai/v1/chat/completions \"HTTP/1.1 200 OK\"\n"
     ]
    },
    {
     "name": "stdout",
     "output_type": "stream",
     "text": [
      "Evaluation for Question 3:\n",
      "Score: 1\n",
      "Explanation: The answer C) Parasitism is correct and valid. In parasitism, one organism benefits while the other is harmed, making it the correct choice among the given options.\n",
      "\n",
      "--------------------------------------------------\n",
      "\n"
     ]
    },
    {
     "name": "stderr",
     "output_type": "stream",
     "text": [
      "2024-10-15 08:36:33,371 - INFO - HTTP Request: POST https://api.groq.com/openai/v1/chat/completions \"HTTP/1.1 200 OK\"\n"
     ]
    },
    {
     "name": "stdout",
     "output_type": "stream",
     "text": [
      "Evaluation for Question 4:\n",
      "Score: 0\n",
      "Explanation: The answer is incorrect. The correct answer is c) Parasitism, as it is the relationship where one organism benefits and the other is harmed. Competition is a relationship where both organisms are competing for the same resource.\n",
      "\n",
      "--------------------------------------------------\n",
      "\n"
     ]
    },
    {
     "name": "stderr",
     "output_type": "stream",
     "text": [
      "2024-10-15 08:36:34,907 - INFO - HTTP Request: POST https://api.groq.com/openai/v1/chat/completions \"HTTP/1.1 200 OK\"\n"
     ]
    },
    {
     "name": "stdout",
     "output_type": "stream",
     "text": [
      "Evaluation for Question 5:\n",
      "Score: 0\n",
      "Explanation: The answer is incorrect because mutation refers to a change in an organism's genetic information, not the passing of genetic information from one generation to the next. The correct answer is heredity (option d).\n",
      "\n",
      "--------------------------------------------------\n",
      "\n"
     ]
    },
    {
     "name": "stderr",
     "output_type": "stream",
     "text": [
      "2024-10-15 08:36:36,294 - INFO - HTTP Request: POST https://api.groq.com/openai/v1/chat/completions \"HTTP/1.1 200 OK\"\n"
     ]
    },
    {
     "name": "stdout",
     "output_type": "stream",
     "text": [
      "Evaluation for Question 6:\n",
      "Score: 0\n",
      "Explanation: The answer is incorrect. Sulfonamide is a competitive inhibitor, not a non-competitive inhibitor. A non-competitive inhibitor binds to a site other than the active site of the enzyme, whereas sulfonamide competes with the substrate for the active site.\n",
      "\n",
      "--------------------------------------------------\n",
      "\n"
     ]
    },
    {
     "name": "stderr",
     "output_type": "stream",
     "text": [
      "2024-10-15 08:36:37,673 - INFO - HTTP Request: POST https://api.groq.com/openai/v1/chat/completions \"HTTP/1.1 200 OK\"\n"
     ]
    },
    {
     "name": "stdout",
     "output_type": "stream",
     "text": [
      "Evaluation for Question 7:\n",
      "Score: 0\n",
      "Explanation: The answer is not provided in the given context, but based on general knowledge, the primary function of the Golgi apparatus is to modify, sort, and package proteins and lipids for transport out of the cell. Without the correct options, I couldn't verify the correctness of option C.\n",
      "\n",
      "--------------------------------------------------\n",
      "\n"
     ]
    },
    {
     "name": "stderr",
     "output_type": "stream",
     "text": [
      "2024-10-15 08:36:39,418 - INFO - HTTP Request: POST https://api.groq.com/openai/v1/chat/completions \"HTTP/1.1 200 OK\"\n"
     ]
    },
    {
     "name": "stdout",
     "output_type": "stream",
     "text": [
      "Evaluation for Question 8:\n",
      "I don't know.\n",
      "\n",
      "--------------------------------------------------\n",
      "\n"
     ]
    },
    {
     "name": "stderr",
     "output_type": "stream",
     "text": [
      "2024-10-15 08:36:40,642 - INFO - HTTP Request: POST https://api.groq.com/openai/v1/chat/completions \"HTTP/1.1 200 OK\"\n"
     ]
    },
    {
     "name": "stdout",
     "output_type": "stream",
     "text": [
      "Evaluation for Question 9:\n",
      "I don't know. There is no Multiple Choice Question 9 provided in the given context.\n",
      "\n",
      "--------------------------------------------------\n",
      "\n"
     ]
    },
    {
     "name": "stderr",
     "output_type": "stream",
     "text": [
      "2024-10-15 08:36:41,772 - INFO - HTTP Request: POST https://api.groq.com/openai/v1/chat/completions \"HTTP/1.1 200 OK\"\n"
     ]
    },
    {
     "name": "stdout",
     "output_type": "stream",
     "text": [
      "Evaluation for Question 10:\n",
      "I don't know. There is no Multiple Choice Question 10 provided in the given context.\n",
      "\n",
      "--------------------------------------------------\n",
      "\n"
     ]
    }
   ],
   "source": [
    "def main():\n",
    "    question_paper_path = r\"mcqs_generation_pdfs/multiple choice questions.pdf\"\n",
    "    student_answers_path = r\"mcqs_answer_pdfs/answer_1.pdf\"\n",
    "    \n",
    "    try:\n",
    "        qa_system = create_qa_system(question_paper_path)\n",
    "    except Exception as e:\n",
    "        logging.error(f\"Error creating QA system: {e}\")\n",
    "        return\n",
    "\n",
    "    student_answers_text = extract_text_from_pdf(student_answers_path)\n",
    "    student_answers = parse_student_answers(student_answers_text)\n",
    "\n",
    "    for question_number, student_answer in student_answers.items():\n",
    "        evaluation = evaluate_mcq_answer(qa_system, question_number, student_answer)\n",
    "        \n",
    "        print(f\"Evaluation for Question {question_number}:\")\n",
    "        print(evaluation)\n",
    "        print(\"\\n\" + \"-\"*50 + \"\\n\")\n",
    "        \n",
    "        # Clear some memory after each iteration\n",
    "        gc.collect()\n",
    "\n",
    "if __name__ == \"__main__\":\n",
    "    main()"
   ]
  },
  {
   "cell_type": "code",
   "execution_count": null,
   "metadata": {},
   "outputs": [],
   "source": []
  }
 ],
 "metadata": {
  "kernelspec": {
   "display_name": "fyp",
   "language": "python",
   "name": "python3"
  },
  "language_info": {
   "codemirror_mode": {
    "name": "ipython",
    "version": 3
   },
   "file_extension": ".py",
   "mimetype": "text/x-python",
   "name": "python",
   "nbconvert_exporter": "python",
   "pygments_lexer": "ipython3",
   "version": "3.12.6"
  }
 },
 "nbformat": 4,
 "nbformat_minor": 2
}
