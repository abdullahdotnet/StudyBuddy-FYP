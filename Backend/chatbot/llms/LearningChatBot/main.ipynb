{
 "cells": [
  {
   "cell_type": "code",
   "execution_count": 1,
   "metadata": {},
   "outputs": [],
   "source": [
    "from dotenv import load_dotenv\n",
    "import os\n",
    "\n",
    "# Load .env file\n",
    "load_dotenv()\n",
    "groq_api_key = os.getenv('GROQ_API_KEY')\n",
    "\n",
    "if not groq_api_key:\n",
    "    raise ValueError(\"Groq API key not found in .env file\")"
   ]
  },
  {
   "cell_type": "code",
   "execution_count": 2,
   "metadata": {},
   "outputs": [
    {
     "name": "stderr",
     "output_type": "stream",
     "text": [
      "c:\\Users\\zubay\\.conda\\envs\\fyp\\Lib\\importlib\\__init__.py:90: LangChainDeprecationWarning: As of langchain-core 0.3.0, LangChain uses pydantic v2 internally. The langchain_core.pydantic_v1 module was a compatibility shim for pydantic v1, and should no longer be used. Please update the code to import from Pydantic directly.\n",
      "\n",
      "For example, replace imports like: `from langchain_core.pydantic_v1 import BaseModel`\n",
      "with: `from pydantic import BaseModel`\n",
      "or the v1 compatibility namespace if you are working in a code base that has not been fully upgraded to pydantic 2 yet. \tfrom pydantic.v1 import BaseModel\n",
      "\n",
      "  return _bootstrap._gcd_import(name[level:], package, level)\n"
     ]
    }
   ],
   "source": [
    "# imports for precessing text\n",
    "import os\n",
    "import pickle\n",
    "import re\n",
    "\n",
    "# imports for creating pipeline for rag\n",
    "from langchain.embeddings import HuggingFaceEmbeddings      # for embeddings\n",
    "from langchain.vectorstores import Chroma                  # for vector store\n",
    "from langchain.document_loaders import TextLoader        # for loading text\n",
    "from langchain.text_splitter import RecursiveCharacterTextSplitter  # acting as base class for splitting text \n",
    "from langchain_groq import ChatGroq                         # for initializing LLM from groq\n",
    "from langchain.schema import Document                   # converting simple text to document object\n",
    "\n",
    "# For compressing the context of retrieved documents\n",
    "from langchain.retrievers import ContextualCompressionRetriever     # for compressing retrieved documents context\n",
    "from langchain.retrievers.document_compressors import LLMChainExtractor     # used in compression\n",
    "\n",
    "# For creating the retrieval chain for chat history\n",
    "from langchain.chains import create_retrieval_chain\n",
    "from langchain.chains.combine_documents import create_stuff_documents_chain\n",
    "from langchain_core.prompts import ChatPromptTemplate\n",
    "\n",
    "# For creating history aware retriever\n",
    "from langchain.chains import create_history_aware_retriever\n",
    "from langchain_core.prompts import MessagesPlaceholder\n",
    "from langchain_core.messages import AIMessage, HumanMessage     # for messages in history aware retriever\n",
    "\n",
    "\n",
    "# Extra for now\n",
    "from langchain.chains import ConversationalRetrievalChain\n",
    "from langchain.memory import ConversationBufferMemory"
   ]
  },
  {
   "cell_type": "code",
   "execution_count": 3,
   "metadata": {},
   "outputs": [
    {
     "name": "stderr",
     "output_type": "stream",
     "text": [
      "C:\\Users\\zubay\\AppData\\Local\\Temp\\ipykernel_15388\\1594320778.py:2: LangChainDeprecationWarning: The class `HuggingFaceEmbeddings` was deprecated in LangChain 0.2.2 and will be removed in 1.0. An updated version of the class exists in the :class:`~langchain-huggingface package and should be used instead. To use it run `pip install -U :class:`~langchain-huggingface` and import as `from :class:`~langchain_huggingface import HuggingFaceEmbeddings``.\n",
      "  embedding_model = HuggingFaceEmbeddings(model_name=\"sentence-transformers/all-MiniLM-L6-v2\")\n",
      "c:\\Users\\zubay\\.conda\\envs\\fyp\\Lib\\site-packages\\sentence_transformers\\cross_encoder\\CrossEncoder.py:13: TqdmWarning: IProgress not found. Please update jupyter and ipywidgets. See https://ipywidgets.readthedocs.io/en/stable/user_install.html\n",
      "  from tqdm.autonotebook import tqdm, trange\n",
      "c:\\Users\\zubay\\.conda\\envs\\fyp\\Lib\\site-packages\\transformers\\tokenization_utils_base.py:1617: FutureWarning: `clean_up_tokenization_spaces` was not set. It will be set to `True` by default. This behavior will be deprecated in transformers v4.45, and will be then set to `False` by default. For more details check this issue: https://github.com/huggingface/transformers/issues/31884\n",
      "  warnings.warn(\n"
     ]
    }
   ],
   "source": [
    "# Initialize the HuggingFace Embedding Model\n",
    "embedding_model = HuggingFaceEmbeddings(model_name=\"sentence-transformers/all-MiniLM-L6-v2\")"
   ]
  },
  {
   "cell_type": "code",
   "execution_count": 4,
   "metadata": {},
   "outputs": [],
   "source": [
    "def load_documents(file_path):\n",
    "    loader = TextLoader('resources/9thComputerScience_cleaned.txt')\n",
    "    documents = loader.load()\n",
    "    return documents"
   ]
  },
  {
   "cell_type": "code",
   "execution_count": 5,
   "metadata": {},
   "outputs": [],
   "source": [
    "# Custom RecursiveCharacterTextSplitter with regex patterns for subtopics and chapters\n",
    "class CustomTextSplitter(RecursiveCharacterTextSplitter):\n",
    "    def __init__(self, **kwargs):\n",
    "        subtopic_pattern = re.compile(r'(\\d+(\\.\\d+)+)')\n",
    "        chapter_separator = 'chapter end -------------------------------------'\n",
    "\n",
    "        # Initialize with any other parameters, and add your separators\n",
    "        super().__init__(separators=[chapter_separator], **kwargs)\n",
    "        self.subtopic_pattern = subtopic_pattern\n",
    "\n",
    "    def split_text(self, text):\n",
    "        # First, split by chapters\n",
    "        texts = super().split_text(text)\n",
    "        documents = []\n",
    "        \n",
    "        # For each chapter, split by subtopic using the subtopic regex\n",
    "        chapter_number = 1\n",
    "        for chapter in texts:\n",
    "            subtopic_splits = self._split_by_subtopic(chapter, chapter_number)\n",
    "            documents.extend(subtopic_splits)\n",
    "            chapter_number += 1\n",
    "        \n",
    "        return documents\n",
    "\n",
    "    def _split_by_subtopic(self, text, chapter_number):\n",
    "        # Use the subtopic regex to split text\n",
    "        matches = list(self.subtopic_pattern.finditer(text))\n",
    "        if not matches:\n",
    "            # No subtopics found, return the full text as a single Document\n",
    "            return [Document(page_content=text.strip(), metadata={\"chapter\": chapter_number})]\n",
    "        \n",
    "        subtopics = []\n",
    "        start_idx = 0\n",
    "        subtopic_number = 1\n",
    "        \n",
    "        for match in matches:\n",
    "            end_idx = match.start()\n",
    "            if start_idx != end_idx:\n",
    "                subtopics.append(Document(\n",
    "                    page_content=text[start_idx:end_idx].strip(),\n",
    "                    metadata={\"chapter\": chapter_number, \"subtopic\": subtopic_number}\n",
    "                ))\n",
    "            start_idx = end_idx\n",
    "            subtopic_number += 1\n",
    "            \n",
    "        # Append the remaining part as a subtopic\n",
    "        subtopics.append(Document(\n",
    "            page_content=text[start_idx:].strip(),\n",
    "            metadata={\"chapter\": chapter_number, \"subtopic\": subtopic_number}\n",
    "        ))\n",
    "        \n",
    "        return subtopics\n"
   ]
  },
  {
   "cell_type": "code",
   "execution_count": 6,
   "metadata": {},
   "outputs": [],
   "source": [
    "# Create embeddings and handle storage\n",
    "def embed_documents(split_docs, embedding_model):\n",
    "    EMBEDDINGS_FOLDER = \"embeddings\"\n",
    "    EMBEDDINGS_FILE = os.path.join(EMBEDDINGS_FOLDER, \"emb01.pkl\")\n",
    "\n",
    "    if not os.path.exists(EMBEDDINGS_FOLDER):\n",
    "        os.makedirs(EMBEDDINGS_FOLDER)\n",
    "\n",
    "    if os.path.exists(EMBEDDINGS_FILE):\n",
    "        print(f\"Loading existing embeddings from {EMBEDDINGS_FILE}...\")\n",
    "        with open(EMBEDDINGS_FILE, 'rb') as f:\n",
    "            embedded_docs = pickle.load(f)\n",
    "            print(\"Embeddings loaded successfully.\")\n",
    "    else:\n",
    "        print(\"Creating new embeddings...\")\n",
    "        texts = [doc.page_content for doc in split_docs]\n",
    "        embedded_docs = embedding_model.embed_documents(texts)\n",
    "\n",
    "        with open(EMBEDDINGS_FILE, 'wb') as f:\n",
    "            pickle.dump(embedded_docs, f)\n",
    "            print(f\"Embeddings saved to {EMBEDDINGS_FILE}\")\n",
    "\n",
    "    return embedded_docs\n"
   ]
  },
  {
   "cell_type": "code",
   "execution_count": 7,
   "metadata": {},
   "outputs": [],
   "source": [
    "# Store embeddings in Chroma vector store\n",
    "def store_embeddings(split_docs, embedding_model):\n",
    "    vector_store = Chroma.from_documents(split_docs, embedding_model) \n",
    "    return vector_store"
   ]
  },
  {
   "cell_type": "code",
   "execution_count": 8,
   "metadata": {},
   "outputs": [],
   "source": [
    "def getting_retriever(llm,vector_store):\n",
    "    \"\"\"Opiton 01: Creating ContextualCompressionRetriever\n",
    "    Contextual Compression will find the relevant records and only contains the relevant data from chunks instead of whole chunks\n",
    "    Maximum Marginal Relevance (mmr) is used to get diverse set of documents.\n",
    "    Option 02: SelfQueryRetrieval for filtering based on sources\"\"\"\n",
    "    # Option 01\n",
    "    compressor = LLMChainExtractor.from_llm(llm)\n",
    "    compression_retriever = ContextualCompressionRetriever(\n",
    "    base_compressor=compressor,\n",
    "    base_retriever=vector_store.as_retriever(search_type = \"mmr\")\n",
    "    )\n",
    "    return compression_retriever"
   ]
  },
  {
   "cell_type": "code",
   "execution_count": 9,
   "metadata": {},
   "outputs": [],
   "source": [
    "# Initialize the LLM\n",
    "def initialize_llm(model_name=\"llama-3.1-70b-versatile\", temperature=0.1):\n",
    "    llm = ChatGroq(\n",
    "        model= model_name,\n",
    "        temperature=temperature,\n",
    "    )\n",
    "    return llm"
   ]
  },
  {
   "cell_type": "code",
   "execution_count": 10,
   "metadata": {},
   "outputs": [
    {
     "name": "stdout",
     "output_type": "stream",
     "text": [
      "Loading existing embeddings from embeddings\\emb01.pkl...\n",
      "Embeddings loaded successfully.\n"
     ]
    }
   ],
   "source": [
    "\n",
    "# Load your document\n",
    "documents = load_documents('resources/9thComputerScience_cleaned.txt')\n",
    "\n",
    "# Split the text into smaller chunks\n",
    "text_splitter = CustomTextSplitter(chunk_size=1000, chunk_overlap=100)\n",
    "split_docs = text_splitter.split_text(documents[0].page_content)\n",
    "# print(split_docs[10])\n",
    "\n",
    "# Create embeddings and store them\n",
    "embedded_docs = embed_documents(split_docs, embedding_model)\n",
    "vector_store = store_embeddings(split_docs, embedding_model)\n",
    "llm = initialize_llm()\n",
    "\n",
    "# Create the retriever having contextual compression\n",
    "retriever = getting_retriever(llm,vector_store)\n"
   ]
  },
  {
   "cell_type": "code",
   "execution_count": 11,
   "metadata": {},
   "outputs": [],
   "source": [
    "# Just for testing the normal chain without chat history\n",
    "system_prompt = (\n",
    "    \"Use the following pieces of retrieved context to answer \"\n",
    "    \"the question. If foudn relevant to user query then do use it otherwise give it  \"\n",
    "    \"from your own knowledge.\"\n",
    "    \"\\n\\n\"\n",
    "    \"{context}\"\n",
    ")\n",
    "\n",
    "prompt = ChatPromptTemplate.from_messages(\n",
    "    [\n",
    "        (\"system\", system_prompt),\n",
    "        (\"human\", \"{input}\"),\n",
    "    ]\n",
    ")\n",
    "\n",
    "question_answer_chain = create_stuff_documents_chain(llm, prompt)\n",
    "rag_chain = create_retrieval_chain(retriever, question_answer_chain)"
   ]
  },
  {
   "cell_type": "code",
   "execution_count": 12,
   "metadata": {},
   "outputs": [
    {
     "data": {
      "text/plain": [
       "{'input': 'can you give me an interesting topic from 1st chapter',\n",
       " 'context': [Document(metadata={'chapter': 1, 'subtopic': 6}, page_content='1.1.3 Planning a Solution \\nAfter analyzing a problem, we formulate a plan that may lead us towards the solution of a problem. This phase includes finding the right strategy for problem solving. Some of the strategies are:\\ne Divide and Conquer: This strategy divides a complex problem into\\nsmaller problems. Figure 1-3 Planning for success\\ne Guess, Check and Improve: The designer guesses a solution to a problem and then checks the correctness of the solution. If the solution is not according to expectations, then he/she refines the solution. The refinement is an iterative process.\\ne Act it Out: In this strategy the designer defines the list of “to-do” tasks. Afterwards he/she performs the task.\\ne Prototype (Draw): This technique draws a pictorial representation of the solution. It is not the final solution. However, it may help a designer to understand the important components of the solution.'),\n",
       "  Document(metadata={'chapter': 3, 'subtopic': 3}, page_content='3.1.1 Need of a Computer Network A computer network is established for the purpose of sharing resources.')],\n",
       " 'answer': 'From the 1st chapter, I found the topic \"Divide and Conquer\" to be quite interesting. It\\'s a problem-solving strategy that involves breaking down a complex problem into smaller, more manageable sub-problems. This approach can be applied to a wide range of problems, making it a useful technique to learn.'}"
      ]
     },
     "execution_count": 12,
     "metadata": {},
     "output_type": "execute_result"
    }
   ],
   "source": [
    "result = rag_chain.invoke({\"input\": \"can you give me an interesting topic from 1st chapter\"})\n",
    "result"
   ]
  },
  {
   "cell_type": "code",
   "execution_count": 13,
   "metadata": {},
   "outputs": [
    {
     "data": {
      "text/plain": [
       "{'input': 'guide me in each step further',\n",
       " 'context': [Document(metadata={'chapter': 1, 'subtopic': 2}, page_content='1.1 Problem Solving Steps\\nIn order to solve a problem, it is important to follow a systematic approach. In the following we discuss different steps that we can follow to solve a problem systematically.')],\n",
       " 'answer': \"Based on the problem-solving steps, I'll guide you through each step in more detail. Here's a general framework for systematic problem-solving:\\n\\n**Step 1: Define the Problem**\\n\\n* Clearly articulate the problem you're trying to solve. Be specific and concise.\\n* Identify the key issues, symptoms, or challenges related to the problem.\\n* Ask yourself questions like:\\n\\t+ What is the problem?\\n\\t+ Where is the problem occurring?\\n\\t+ When did the problem start?\\n\\t+ Who is affected by the problem?\\n\\t+ What are the consequences of not solving the problem?\\n\\n**Step 2: Gather Information**\\n\\n* Collect relevant data and facts about the problem.\\n* Research the problem to gain a deeper understanding of its causes and effects.\\n* Talk to people who are familiar with the problem or have experienced it before.\\n* Ask yourself questions like:\\n\\t+ What are the root causes of the problem?\\n\\t+ What are the contributing factors?\\n\\t+ What are the potential consequences of not solving the problem?\\n\\n**Step 3: Analyze the Problem**\\n\\n* Examine the data and information you've gathered to identify patterns, relationships, and trends.\\n* Break down complex problems into smaller, manageable parts.\\n* Identify the key factors that are contributing to the problem.\\n* Ask yourself questions like:\\n\\t+ What are the underlying causes of the problem?\\n\\t+ How do the different factors interact with each other?\\n\\t+ What are the potential solutions to the problem?\\n\\n**Step 4: Generate Solutions**\\n\\n* Brainstorm potential solutions to the problem.\\n* Consider different perspectives and ideas.\\n* Evaluate the pros and cons of each potential solution.\\n* Ask yourself questions like:\\n\\t+ What are the potential benefits of each solution?\\n\\t+ What are the potential risks or drawbacks of each solution?\\n\\t+ Which solution is most likely to solve the problem?\\n\\n**Step 5: Evaluate and Select a Solution**\\n\\n* Evaluate the potential solutions you've generated.\\n* Consider factors like feasibility, cost, and potential impact.\\n* Select the solution that is most likely to solve the problem.\\n* Ask yourself questions like:\\n\\t+ Which solution is most feasible?\\n\\t+ Which solution is most cost-effective?\\n\\t+ Which solution has the greatest potential impact?\\n\\n**Step 6: Implement the Solution**\\n\\n* Put the selected solution into action.\\n* Develop a plan for implementing the solution.\\n* Identify the resources and support needed to implement the solution.\\n* Ask yourself questions like:\\n\\t+ What are the necessary steps to implement the solution?\\n\\t+ What resources are needed to implement the solution?\\n\\t+ Who will be responsible for implementing the solution?\\n\\n**Step 7: Monitor and Evaluate**\\n\\n* Monitor the implementation of the solution.\\n* Evaluate the effectiveness of the solution.\\n* Identify any areas for improvement.\\n* Ask yourself questions like:\\n\\t+ Is the solution working as expected?\\n\\t+ Are there any unintended consequences?\\n\\t+ What can be done to improve the solution?\\n\\nBy following these steps, you can systematically approach problem-solving and increase your chances of finding effective solutions.\"}"
      ]
     },
     "execution_count": 13,
     "metadata": {},
     "output_type": "execute_result"
    }
   ],
   "source": [
    "result = rag_chain.invoke({\"input\": \"guide me in each step further\"})\n",
    "result"
   ]
  },
  {
   "cell_type": "markdown",
   "metadata": {},
   "source": [
    "## Implementing Chat history for context"
   ]
  },
  {
   "cell_type": "code",
   "execution_count": 14,
   "metadata": {},
   "outputs": [],
   "source": [
    "contextualize_q_system_prompt = (\n",
    "    \"Given a chat history and the latest user question \"\n",
    "    \"which might reference context in the chat history, \"\n",
    "    \"formulate a standalone question which can be understood \"\n",
    "    \"without the chat history. Then answer the user query \"\n",
    "    \"precisely and ask follow-up related questions.\"\n",
    ")\n",
    "\n",
    "contextualize_q_prompt = ChatPromptTemplate.from_messages(\n",
    "    [\n",
    "        (\"system\", contextualize_q_system_prompt),\n",
    "        MessagesPlaceholder(\"chat_history\"),\n",
    "        (\"human\", \"{input}\"),\n",
    "    ]\n",
    ")\n",
    "\n",
    "# Creating a new retirever that is aware of the chat history. Rest of the things are same.\n",
    "history_aware_retriever = create_history_aware_retriever(\n",
    "    llm, retriever, contextualize_q_prompt\n",
    ")"
   ]
  },
  {
   "cell_type": "code",
   "execution_count": 15,
   "metadata": {},
   "outputs": [],
   "source": [
    "qa_prompt = ChatPromptTemplate.from_messages(\n",
    "    [\n",
    "        (\"system\", system_prompt),\n",
    "        MessagesPlaceholder(\"chat_history\"),\n",
    "        (\"human\", \"{input}\"),\n",
    "    ]\n",
    ")\n",
    "\n",
    "\n",
    "question_answer_chain = create_stuff_documents_chain(llm, qa_prompt)\n",
    "\n",
    "rag_chain = create_retrieval_chain(history_aware_retriever, question_answer_chain)"
   ]
  },
  {
   "cell_type": "markdown",
   "metadata": {},
   "source": [
    "### Chat History Working"
   ]
  },
  {
   "cell_type": "code",
   "execution_count": 16,
   "metadata": {},
   "outputs": [],
   "source": [
    "chat_history = []   # List of messages in the chat history"
   ]
  },
  {
   "cell_type": "code",
   "execution_count": 17,
   "metadata": {},
   "outputs": [
    {
     "name": "stdout",
     "output_type": "stream",
     "text": [
      "Overall Result Object:  {'input': 'can you give me an interesting topic from 1st chapter', 'chat_history': [HumanMessage(content='can you give me an interesting topic from 1st chapter', additional_kwargs={}, response_metadata={}), AIMessage(content='From the 1st chapter, an interesting topic could be \"Divide and Conquer\" strategy. This strategy involves breaking down a complex problem into smaller, more manageable problems, making it easier to solve. It\\'s a fascinating topic because it can be applied to various real-life situations, such as solving puzzles, managing large projects, or even tackling complex algorithms in computer science.', additional_kwargs={}, response_metadata={})], 'context': [Document(metadata={'chapter': 1, 'subtopic': 6}, page_content='1.1.3 Planning a Solution\\nAfter analyzing a problem, we formulate a plan that may lead us towards the solution of a problem. This phase includes finding the right strategy for problem solving. Some of the strategies are:\\ne Divide and Conquer: This strategy divides a complex problem into\\nsmaller problems. Figure 1-3 Planning for success\\ne Guess, Check and Improve: The designer guesses a solution to a problem and then checks the correctness of the solution. If the solution is not according to expectations, then he/she refines the solution. The refinement is an iterative process.\\ne Act it Out: In this strategy the designer defines the list of “to-do” tasks. Afterwards he/she performs the task.\\ne Prototype (Draw): This technique draws a pictorial representation of the solution. It is not the final solution. However, it may help a designer to understand the important components of the solution.')], 'answer': 'From the 1st chapter, an interesting topic could be \"Divide and Conquer\" strategy. This strategy involves breaking down a complex problem into smaller, more manageable problems, making it easier to solve. It\\'s a fascinating topic because it can be applied to various real-life situations, such as solving puzzles, managing large projects, or even tackling complex algorithms in computer science.'}\n",
      "-----------------------------------\n",
      "Answer: From the 1st chapter, an interesting topic could be \"Divide and Conquer\" strategy. This strategy involves breaking down a complex problem into smaller, more manageable problems, making it easier to solve. It's a fascinating topic because it can be applied to various real-life situations, such as solving puzzles, managing large projects, or even tackling complex algorithms in computer science.\n",
      "-----------------------------------\n",
      "Context: [Document(metadata={'chapter': 1, 'subtopic': 6}, page_content='1.1.3 Planning a Solution\\nAfter analyzing a problem, we formulate a plan that may lead us towards the solution of a problem. This phase includes finding the right strategy for problem solving. Some of the strategies are:\\ne Divide and Conquer: This strategy divides a complex problem into\\nsmaller problems. Figure 1-3 Planning for success\\ne Guess, Check and Improve: The designer guesses a solution to a problem and then checks the correctness of the solution. If the solution is not according to expectations, then he/she refines the solution. The refinement is an iterative process.\\ne Act it Out: In this strategy the designer defines the list of “to-do” tasks. Afterwards he/she performs the task.\\ne Prototype (Draw): This technique draws a pictorial representation of the solution. It is not the final solution. However, it may help a designer to understand the important components of the solution.')]\n",
      "-----------------------------------\n",
      "Chat History: [HumanMessage(content='can you give me an interesting topic from 1st chapter', additional_kwargs={}, response_metadata={}), AIMessage(content='From the 1st chapter, an interesting topic could be \"Divide and Conquer\" strategy. This strategy involves breaking down a complex problem into smaller, more manageable problems, making it easier to solve. It\\'s a fascinating topic because it can be applied to various real-life situations, such as solving puzzles, managing large projects, or even tackling complex algorithms in computer science.', additional_kwargs={}, response_metadata={})]\n"
     ]
    }
   ],
   "source": [
    "query = \"can you give me an interesting topic from 1st chapter\"\n",
    "result = rag_chain.invoke({\"input\": query,\"chat_history\": chat_history})\n",
    "# Append the user query and the system response to the chat history\n",
    "chat_history.extend(\n",
    "    [\n",
    "        HumanMessage(content=query),\n",
    "        AIMessage(content=result[\"answer\"]),\n",
    "    ]\n",
    ")\n",
    "print(\"Overall Result Object: \",result)\n",
    "print(\"-----------------------------------\")\n",
    "print(\"Answer:\",result[\"answer\"])\n",
    "print(\"-----------------------------------\")\n",
    "print(\"Context:\",result[\"context\"])\n",
    "print(\"-----------------------------------\")\n",
    "print(\"Chat History:\",chat_history)"
   ]
  },
  {
   "cell_type": "code",
   "execution_count": 18,
   "metadata": {},
   "outputs": [
    {
     "name": "stdout",
     "output_type": "stream",
     "text": [
      "Overall Result Object:  {'input': 'will you give details about a particular poriton of it?', 'chat_history': [HumanMessage(content='can you give me an interesting topic from 1st chapter', additional_kwargs={}, response_metadata={}), AIMessage(content='From the 1st chapter, an interesting topic could be \"Divide and Conquer\" strategy. This strategy involves breaking down a complex problem into smaller, more manageable problems, making it easier to solve. It\\'s a fascinating topic because it can be applied to various real-life situations, such as solving puzzles, managing large projects, or even tackling complex algorithms in computer science.', additional_kwargs={}, response_metadata={}), HumanMessage(content='will you give details about a particular poriton of it?', additional_kwargs={}, response_metadata={}), AIMessage(content='Let\\'s dive deeper into the \"Divide and Conquer\" strategy. \\n\\nIn the Divide and Conquer approach, a problem is broken down into smaller sub-problems, and each sub-problem is solved independently. The solutions to these sub-problems are then combined to solve the original problem.\\n\\nHere\\'s a general outline of the steps involved in the Divide and Conquer strategy:\\n\\n1. **Divide**: Break down the problem into smaller sub-problems. This step involves identifying the key components of the problem and dividing it into smaller, more manageable parts.\\n2. **Conquer**: Solve each sub-problem independently. This step involves finding a solution to each sub-problem, using a similar approach or a different strategy.\\n3. **Combine**: Combine the solutions to the sub-problems to solve the original problem. This step involves merging the solutions to the sub-problems to form a complete solution to the original problem.\\n\\nThe Divide and Conquer strategy is often used in algorithms, such as Merge Sort, Quick Sort, and Binary Search. It\\'s a powerful technique for solving complex problems, as it allows us to break down a problem into smaller, more manageable parts, and then combine the solutions to these parts to solve the original problem.', additional_kwargs={}, response_metadata={})], 'context': [Document(metadata={'chapter': 1, 'subtopic': 6}, page_content='e Divide and Conquer: This strategy divides a complex problem into smaller problems.')], 'answer': 'Let\\'s dive deeper into the \"Divide and Conquer\" strategy. \\n\\nIn the Divide and Conquer approach, a problem is broken down into smaller sub-problems, and each sub-problem is solved independently. The solutions to these sub-problems are then combined to solve the original problem.\\n\\nHere\\'s a general outline of the steps involved in the Divide and Conquer strategy:\\n\\n1. **Divide**: Break down the problem into smaller sub-problems. This step involves identifying the key components of the problem and dividing it into smaller, more manageable parts.\\n2. **Conquer**: Solve each sub-problem independently. This step involves finding a solution to each sub-problem, using a similar approach or a different strategy.\\n3. **Combine**: Combine the solutions to the sub-problems to solve the original problem. This step involves merging the solutions to the sub-problems to form a complete solution to the original problem.\\n\\nThe Divide and Conquer strategy is often used in algorithms, such as Merge Sort, Quick Sort, and Binary Search. It\\'s a powerful technique for solving complex problems, as it allows us to break down a problem into smaller, more manageable parts, and then combine the solutions to these parts to solve the original problem.'}\n",
      "-----------------------------------\n",
      "Answer: Let's dive deeper into the \"Divide and Conquer\" strategy. \n",
      "\n",
      "In the Divide and Conquer approach, a problem is broken down into smaller sub-problems, and each sub-problem is solved independently. The solutions to these sub-problems are then combined to solve the original problem.\n",
      "\n",
      "Here's a general outline of the steps involved in the Divide and Conquer strategy:\n",
      "\n",
      "1. **Divide**: Break down the problem into smaller sub-problems. This step involves identifying the key components of the problem and dividing it into smaller, more manageable parts.\n",
      "2. **Conquer**: Solve each sub-problem independently. This step involves finding a solution to each sub-problem, using a similar approach or a different strategy.\n",
      "3. **Combine**: Combine the solutions to the sub-problems to solve the original problem. This step involves merging the solutions to the sub-problems to form a complete solution to the original problem.\n",
      "\n",
      "The Divide and Conquer strategy is often used in algorithms, such as Merge Sort, Quick Sort, and Binary Search. It's a powerful technique for solving complex problems, as it allows us to break down a problem into smaller, more manageable parts, and then combine the solutions to these parts to solve the original problem.\n",
      "-----------------------------------\n",
      "Context: [Document(metadata={'chapter': 1, 'subtopic': 6}, page_content='e Divide and Conquer: This strategy divides a complex problem into smaller problems.')]\n",
      "-----------------------------------\n",
      "Chat History: [HumanMessage(content='can you give me an interesting topic from 1st chapter', additional_kwargs={}, response_metadata={}), AIMessage(content='From the 1st chapter, an interesting topic could be \"Divide and Conquer\" strategy. This strategy involves breaking down a complex problem into smaller, more manageable problems, making it easier to solve. It\\'s a fascinating topic because it can be applied to various real-life situations, such as solving puzzles, managing large projects, or even tackling complex algorithms in computer science.', additional_kwargs={}, response_metadata={}), HumanMessage(content='will you give details about a particular poriton of it?', additional_kwargs={}, response_metadata={}), AIMessage(content='Let\\'s dive deeper into the \"Divide and Conquer\" strategy. \\n\\nIn the Divide and Conquer approach, a problem is broken down into smaller sub-problems, and each sub-problem is solved independently. The solutions to these sub-problems are then combined to solve the original problem.\\n\\nHere\\'s a general outline of the steps involved in the Divide and Conquer strategy:\\n\\n1. **Divide**: Break down the problem into smaller sub-problems. This step involves identifying the key components of the problem and dividing it into smaller, more manageable parts.\\n2. **Conquer**: Solve each sub-problem independently. This step involves finding a solution to each sub-problem, using a similar approach or a different strategy.\\n3. **Combine**: Combine the solutions to the sub-problems to solve the original problem. This step involves merging the solutions to the sub-problems to form a complete solution to the original problem.\\n\\nThe Divide and Conquer strategy is often used in algorithms, such as Merge Sort, Quick Sort, and Binary Search. It\\'s a powerful technique for solving complex problems, as it allows us to break down a problem into smaller, more manageable parts, and then combine the solutions to these parts to solve the original problem.', additional_kwargs={}, response_metadata={})]\n"
     ]
    }
   ],
   "source": [
    "# Follow up question without mentioning any particular term to test the memory\n",
    "query = \"will you give details about a particular poriton of it?\"\n",
    "result = rag_chain.invoke({\"input\": query,\"chat_history\": chat_history})\n",
    "chat_history.extend(\n",
    "    [\n",
    "        HumanMessage(content=query),\n",
    "        AIMessage(content=result[\"answer\"]),\n",
    "    ]\n",
    ")\n",
    "print(\"Overall Result Object: \",result)\n",
    "print(\"-----------------------------------\")\n",
    "print(\"Answer:\",result[\"answer\"])\n",
    "print(\"-----------------------------------\")\n",
    "print(\"Context:\",result[\"context\"])\n",
    "print(\"-----------------------------------\")\n",
    "print(\"Chat History:\",chat_history)"
   ]
  },
  {
   "cell_type": "code",
   "execution_count": null,
   "metadata": {},
   "outputs": [],
   "source": []
  }
 ],
 "metadata": {
  "kernelspec": {
   "display_name": "fyp",
   "language": "python",
   "name": "python3"
  },
  "language_info": {
   "codemirror_mode": {
    "name": "ipython",
    "version": 3
   },
   "file_extension": ".py",
   "mimetype": "text/x-python",
   "name": "python",
   "nbconvert_exporter": "python",
   "pygments_lexer": "ipython3",
   "version": "3.12.6"
  }
 },
 "nbformat": 4,
 "nbformat_minor": 2
}
