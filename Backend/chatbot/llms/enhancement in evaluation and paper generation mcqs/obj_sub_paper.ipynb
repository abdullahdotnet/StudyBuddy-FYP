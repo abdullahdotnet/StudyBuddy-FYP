{
 "cells": [
  {
   "cell_type": "code",
   "execution_count": 23,
   "metadata": {},
   "outputs": [],
   "source": [
    "import os\n",
    "import PyPDF2\n",
    "from langchain.embeddings import HuggingFaceEmbeddings\n",
    "from langchain.vectorstores import Chroma\n",
    "from langchain.text_splitter import CharacterTextSplitter\n",
    "from langchain.chains import RetrievalQA\n",
    "from langchain_groq import ChatGroq\n",
    "from reportlab.lib.pagesizes import letter\n",
    "from reportlab.lib.styles import getSampleStyleSheet, ParagraphStyle\n",
    "from reportlab.platypus import SimpleDocTemplate, Paragraph, Spacer\n",
    "from reportlab.lib.enums import TA_JUSTIFY\n"
   ]
  },
  {
   "cell_type": "code",
   "execution_count": 24,
   "metadata": {},
   "outputs": [],
   "source": [
    "# Load environment variables\n",
    "from dotenv import load_dotenv\n",
    "import os\n",
    "load_dotenv()\n",
    "groq_api_key = os.getenv('GROQ_API_KEY')\n",
    "if not groq_api_key:\n",
    "    raise ValueError(\"Groq API key not found in .env file.\")"
   ]
  },
  {
   "cell_type": "code",
   "execution_count": 25,
   "metadata": {},
   "outputs": [],
   "source": [
    "# Global variable to store embeddings so they aren't created again\n",
    "GLOBAL_EMBEDDINGS = None\n",
    "GLOBAL_DB = None"
   ]
  },
  {
   "cell_type": "code",
   "execution_count": 26,
   "metadata": {},
   "outputs": [],
   "source": [
    "def extract_text_from_pdf(pdf_path):\n",
    "    with open(pdf_path, 'rb') as file:\n",
    "        reader = PyPDF2.PdfReader(file)\n",
    "        text = \"\"\n",
    "        for page in reader.pages:\n",
    "            text += page.extract_text()\n",
    "    return text"
   ]
  },
  {
   "cell_type": "code",
   "execution_count": 27,
   "metadata": {},
   "outputs": [],
   "source": [
    "def create_embeddings(pdf_paths):\n",
    "    \"\"\"This function creates embeddings once and stores them globally.\"\"\"\n",
    "    global GLOBAL_EMBEDDINGS\n",
    "    global GLOBAL_DB\n",
    "\n",
    "    # If embeddings are already created, just return them\n",
    "    if GLOBAL_DB is not None:\n",
    "        print(\"Using already created embeddings.\")\n",
    "        return GLOBAL_DB\n",
    "\n",
    "    print(\"Creating new embeddings...\")\n",
    "\n",
    "    all_texts = \"\"\n",
    "    for pdf_path in pdf_paths:\n",
    "        pdf_text = extract_text_from_pdf(pdf_path)\n",
    "        all_texts += pdf_text + \"\\n\"\n",
    "\n",
    "    text_splitter = CharacterTextSplitter(chunk_size=1000, chunk_overlap=0)\n",
    "    texts = text_splitter.split_text(all_texts)\n",
    "\n",
    "    embeddings = HuggingFaceEmbeddings()\n",
    "    db = Chroma.from_texts(texts, embeddings)\n",
    "\n",
    "    # Store embeddings in the global variable so that it can be reused\n",
    "    GLOBAL_EMBEDDINGS = embeddings\n",
    "    GLOBAL_DB = db\n",
    "\n",
    "    return db"
   ]
  },
  {
   "cell_type": "code",
   "execution_count": 28,
   "metadata": {},
   "outputs": [],
   "source": [
    "def create_qa_system(db):\n",
    "    \"\"\"This function creates a QA system using the already created embeddings.\"\"\"\n",
    "    llm = ChatGroq(\n",
    "        model=\"llama-3.1-70b-versatile\",\n",
    "        temperature=0.7,\n",
    "    )\n",
    "\n",
    "    # Use the pre-created vector store (db)\n",
    "    qa = RetrievalQA.from_chain_type(llm=llm, chain_type=\"stuff\", retriever=db.as_retriever(search_kwargs={\"k\": 3}))\n",
    "\n",
    "    return qa\n"
   ]
  },
  {
   "cell_type": "code",
   "execution_count": 29,
   "metadata": {},
   "outputs": [],
   "source": [
    "def generate_objective_questions(qa_system):\n",
    "    prompt = \"Generate a new multiple choice exam which has 10 questions based on the content of the past papers, ensuring it's within the scope of the subject books. The questions should be challenging but fair. Format the questions in a structured manner suitable for an exam paper, including clear instructions. Give MCQs in the form of a, b, c, d options. Also, space between each question should be at least 2 lines in proper format.\"\n",
    "    response = qa_system.run(prompt)\n",
    "    return response"
   ]
  },
  {
   "cell_type": "code",
   "execution_count": 30,
   "metadata": {},
   "outputs": [],
   "source": [
    "def generate_subjective_questions(qa_system):\n",
    "    prompt = \"Generate a new subjective question paper based on the contents of the past papers, ensuring it's within the scope of the subject books. There should be two sections in the paper. In the first section, there are three parts of short questions, and in each part of short questions, there are six short questions. Then in the second section, there are three long questions. The questions should be challenging but fair. Format the questions in a structured manner suitable for an exam paper. Also, space between each question should be at least 2 lines. Do not repeat the questions.\"\n",
    "    response = qa_system.run(prompt)\n",
    "    return response"
   ]
  },
  {
   "cell_type": "code",
   "execution_count": 31,
   "metadata": {},
   "outputs": [],
   "source": [
    "def create_combined_question_paper_pdf(objective_questions, subjective_questions, output_path):\n",
    "\n",
    "    doc = SimpleDocTemplate(output_path, pagesize=letter)\n",
    "    styles = getSampleStyleSheet()\n",
    "    content = []\n",
    "\n",
    "    content.append(Paragraph(\"Generated Question Paper\", styles['Title']))\n",
    "    content.append(Spacer(1, 12))\n",
    "\n",
    "    styles.add(ParagraphStyle(name='Justify', alignment=TA_JUSTIFY))\n",
    "    \n",
    "    # Objective Questions Section\n",
    "    content.append(Paragraph(\"Section A: Objective Questions\", styles['Heading1']))\n",
    "    content.append(Spacer(1, 12))\n",
    "    lines = objective_questions.split('\\n')\n",
    "    for line in lines:\n",
    "        if line.strip():\n",
    "            content.append(Paragraph(line, styles['Justify']))\n",
    "        content.append(Spacer(1, 6))\n",
    "    \n",
    "    content.append(Spacer(1, 12))\n",
    "    \n",
    "    # Subjective Questions Section\n",
    "    content.append(Paragraph(\"Section B: Subjective Questions\", styles['Heading1']))\n",
    "    content.append(Spacer(1, 12))\n",
    "    lines = subjective_questions.split('\\n')\n",
    "    for line in lines:\n",
    "        if line.strip():\n",
    "            content.append(Paragraph(line, styles['Justify']))\n",
    "        content.append(Spacer(1, 6))\n",
    "\n",
    "    doc.build(content)"
   ]
  },
  {
   "cell_type": "code",
   "execution_count": 32,
   "metadata": {},
   "outputs": [],
   "source": [
    "def get_pdf_files_from_folder(folder_path):\n",
    "    pdf_files = []\n",
    "    for file in os.listdir(folder_path):\n",
    "        if file.lower().endswith('.pdf'):\n",
    "            pdf_files.append(os.path.join(folder_path, file))\n",
    "    return pdf_files"
   ]
  },
  {
   "cell_type": "code",
   "execution_count": null,
   "metadata": {},
   "outputs": [],
   "source": [
    "def main():\n",
    "    objective_past_paper_folder = \"chemistry_mcqs_output_pdfs\"  # Folder containing objective past paper PDFs\n",
    "    subjective_past_paper_folder = \"chemistry_sub_output_pdfs\"  # Folder containing subjective past paper PDFs\n",
    "    subject_book_paths = [\"chemistry9.pdf\"]  # Add your subject book PDFs here\n",
    "\n",
    "    objective_past_paper_paths = get_pdf_files_from_folder(objective_past_paper_folder)\n",
    "    subjective_past_paper_paths = get_pdf_files_from_folder(subjective_past_paper_folder)\n",
    "    \n",
    "    # Call the create_embeddings function only once\n",
    "    embeddings_db = create_embeddings(objective_past_paper_paths + subjective_past_paper_paths + subject_book_paths)\n",
    "    \n",
    "    # Create the QA system using the pre-created embeddings\n",
    "    objective_qa_system = create_qa_system(embeddings_db)\n",
    "    subjective_qa_system = create_qa_system(embeddings_db)\n",
    "    \n",
    "    objective_questions = generate_objective_questions(objective_qa_system)\n",
    "    subjective_questions = generate_subjective_questions(subjective_qa_system)\n",
    "    \n",
    "    output_pdf_path = \"2_combined_question_paper.pdf\"\n",
    "    create_combined_question_paper_pdf(objective_questions, subjective_questions, output_pdf_path)\n",
    "    \n",
    "    print(f\"Generated combined question paper has been saved to {output_pdf_path}\")\n",
    "    print(f\"Used {len(objective_past_paper_paths)} objective past papers from the folder '{objective_past_paper_folder}'\")\n",
    "    print(f\"Used {len(subjective_past_paper_paths)} subjective past papers from the folder '{subjective_past_paper_folder}'\")\n",
    "\n",
    "if __name__ == \"__main__\":\n",
    "    main()\n"
   ]
  },
  {
   "cell_type": "code",
   "execution_count": null,
   "metadata": {},
   "outputs": [],
   "source": []
  }
 ],
 "metadata": {
  "kernelspec": {
   "display_name": "Python 3",
   "language": "python",
   "name": "python3"
  },
  "language_info": {
   "codemirror_mode": {
    "name": "ipython",
    "version": 3
   },
   "file_extension": ".py",
   "mimetype": "text/x-python",
   "name": "python",
   "nbconvert_exporter": "python",
   "pygments_lexer": "ipython3",
   "version": "3.11.9"
  }
 },
 "nbformat": 4,
 "nbformat_minor": 2
}
