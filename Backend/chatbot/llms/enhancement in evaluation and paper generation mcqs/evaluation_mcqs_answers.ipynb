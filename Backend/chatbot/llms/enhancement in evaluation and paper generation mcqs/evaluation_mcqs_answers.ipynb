{
 "cells": [
  {
   "cell_type": "code",
   "execution_count": 1,
   "metadata": {},
   "outputs": [
    {
     "name": "stderr",
     "output_type": "stream",
     "text": [
      "c:\\Users\\PRECISION\\AppData\\Local\\Programs\\Python\\Python311\\Lib\\site-packages\\pydantic\\_internal\\_fields.py:132: UserWarning: Field \"model_name\" in HuggingFaceInferenceAPIEmbeddings has conflict with protected namespace \"model_\".\n",
      "\n",
      "You may be able to resolve this warning by setting `model_config['protected_namespaces'] = ()`.\n",
      "  warnings.warn(\n"
     ]
    }
   ],
   "source": [
    "import os\n",
    "import PyPDF2\n",
    "from langchain_groq import ChatGroq\n",
    "from langchain.chains import RetrievalQA\n",
    "from langchain_community.embeddings import HuggingFaceEmbeddings\n",
    "from langchain_community.vectorstores import Chroma\n",
    "from langchain.text_splitter import RecursiveCharacterTextSplitter\n",
    "import cv2\n",
    "import pytesseract\n",
    "from PIL import Image\n",
    "import gc\n",
    "import logging\n",
    "import warnings"
   ]
  },
  {
   "cell_type": "code",
   "execution_count": 2,
   "metadata": {},
   "outputs": [],
   "source": [
    "warnings.filterwarnings(\"ignore\", category=FutureWarning)\n",
    "warnings.filterwarnings(\"ignore\", category=UserWarning)\n",
    "\n",
    "# Set up logging\n",
    "logging.basicConfig(level=logging.INFO, format='%(asctime)s - %(levelname)s - %(message)s')\n"
   ]
  },
  {
   "cell_type": "code",
   "execution_count": 3,
   "metadata": {},
   "outputs": [],
   "source": [
    "os.environ[\"GROQ_API_KEY\"] = \"\"  # Replace with your actual Groq API key\n",
    "\n",
    "def extract_text_from_pdf(pdf_path):\n",
    "    try:\n",
    "        with open(pdf_path, 'rb') as file:\n",
    "            reader = PyPDF2.PdfReader(file)\n",
    "            text = \"\"\n",
    "            for page in reader.pages:\n",
    "                text += page.extract_text()\n",
    "        return text\n",
    "    except Exception as e:\n",
    "        logging.error(f\"Error extracting text from PDF: {e}\")\n",
    "        return \"\"\n"
   ]
  },
  {
   "cell_type": "code",
   "execution_count": 4,
   "metadata": {},
   "outputs": [],
   "source": [
    "def create_qa_system(question_paper_path):\n",
    "    question_paper_text = extract_text_from_pdf(question_paper_path)\n",
    "\n",
    "    text_splitter = RecursiveCharacterTextSplitter(chunk_size=500, chunk_overlap=50)\n",
    "    texts = text_splitter.split_text(question_paper_text)\n",
    "\n",
    "    embeddings = HuggingFaceEmbeddings(model_name=\"sentence-transformers/all-mpnet-base-v2\")\n",
    "    db = Chroma.from_texts(texts, embeddings)\n",
    "\n",
    "    llm = ChatGroq(\n",
    "        model=\"llama-3.1-70b-versatile\",\n",
    "        temperature=0.2,\n",
    "        max_tokens=1000,  # Limit token generation\n",
    "    )\n",
    "\n",
    "    qa = RetrievalQA.from_chain_type(llm=llm, chain_type=\"stuff\", retriever=db.as_retriever(search_kwargs={\"k\": 2}))\n",
    "\n",
    "    return qa"
   ]
  },
  {
   "cell_type": "code",
   "execution_count": 5,
   "metadata": {},
   "outputs": [],
   "source": [
    "def preprocess_image(image_path):\n",
    "    try:\n",
    "        image = cv2.imread(image_path)\n",
    "        gray = cv2.cvtColor(image, cv2.COLOR_BGR2GRAY)\n",
    "        denoised = cv2.fastNlMeansDenoising(gray)\n",
    "        threshold = cv2.threshold(denoised, 0, 255, cv2.THRESH_BINARY + cv2.THRESH_OTSU)[1]\n",
    "        return threshold\n",
    "    except Exception as e:\n",
    "        logging.error(f\"Error preprocessing image: {e}\")\n",
    "        return None"
   ]
  },
  {
   "cell_type": "code",
   "execution_count": 6,
   "metadata": {},
   "outputs": [],
   "source": [
    "def extract_text_from_image(image_path):\n",
    "    processed_image = preprocess_image(image_path)\n",
    "    if processed_image is not None:\n",
    "        try:\n",
    "            text = pytesseract.image_to_string(processed_image)\n",
    "            return text\n",
    "        except Exception as e:\n",
    "            logging.error(f\"Error extracting text from image: {e}\")\n",
    "    return \"\""
   ]
  },
  {
   "cell_type": "code",
   "execution_count": 7,
   "metadata": {},
   "outputs": [],
   "source": [
    "def evaluate_mcq_answer(qa_system, question_number, student_answer):\n",
    "    prompt = f\"\"\"\n",
    "    Referring to Multiple Choice Question {question_number}:\n",
    "    \n",
    "    Student's Answer: {student_answer}\n",
    "\n",
    "    Evaluate the student's answer based on these criteria:\n",
    "    1. Correctness (6 points): Is the answer correct?\n",
    "    2. Response validity (4 points): Did the student provide a valid response (A, B, C, D, etc.)?\n",
    "\n",
    "    Provide a brief evaluation for each criterion with points.\n",
    "    Sum the points for an overall score out of 10.\n",
    "    Give a short sentence of feedback.\n",
    "    \n",
    "    Limit your response to 100 words.\n",
    "    \"\"\"\n",
    "    \n",
    "    try:\n",
    "        evaluation = qa_system.run(prompt)\n",
    "        return evaluation\n",
    "    except Exception as e:\n",
    "        logging.error(f\"Error during evaluation: {e}\")\n",
    "        return \"Error occurred during evaluation.\""
   ]
  },
  {
   "cell_type": "code",
   "execution_count": null,
   "metadata": {},
   "outputs": [],
   "source": [
    "def main():\n",
    "    question_paper_path = \"multiple choice questions.pdf\"\n",
    "    \n",
    "    try:\n",
    "        qa_system = create_qa_system(question_paper_path)\n",
    "    except Exception as e:\n",
    "        logging.error(f\"Error creating QA system: {e}\")\n",
    "        return\n",
    "\n",
    "    student_answer_images = [\n",
    "        \"answer_1.jpg\",\n",
    "        \"answer_2.jpg\",\n",
    "        # Add more image paths as needed\n",
    "    ]\n",
    "\n",
    "    for question_number, image_path in enumerate(student_answer_images, start=1):\n",
    "        if os.path.exists(image_path):\n",
    "            student_answer_text = extract_text_from_image(image_path)\n",
    "            if student_answer_text:\n",
    "                evaluation = evaluate_mcq_answer(qa_system, question_number, student_answer_text)\n",
    "                \n",
    "                print(f\"Evaluation for Question {question_number}:\")\n",
    "                print(evaluation)\n",
    "                print(\"\\n\" + \"-\"*50 + \"\\n\")\n",
    "            else:\n",
    "                print(f\"Could not extract text from image for Question {question_number}\")\n",
    "        else:\n",
    "            print(f\"No answer image found for Question {question_number}\")\n",
    "        \n",
    "        # Clear some memory after each iteration\n",
    "        gc.collect()\n",
    "\n",
    "if __name__ == \"__main__\":\n",
    "    main()"
   ]
  }
 ],
 "metadata": {
  "kernelspec": {
   "display_name": "Python 3",
   "language": "python",
   "name": "python3"
  },
  "language_info": {
   "codemirror_mode": {
    "name": "ipython",
    "version": 3
   },
   "file_extension": ".py",
   "mimetype": "text/x-python",
   "name": "python",
   "nbconvert_exporter": "python",
   "pygments_lexer": "ipython3",
   "version": "3.11.9"
  }
 },
 "nbformat": 4,
 "nbformat_minor": 2
}
