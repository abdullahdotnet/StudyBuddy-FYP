{
 "cells": [
  {
   "cell_type": "code",
   "execution_count": 8,
   "metadata": {},
   "outputs": [],
   "source": [
    "from pdf2image import convert_from_path\n",
    "import pytesseract\n",
    "from fpdf import FPDF\n",
    "import cv2\n",
    "import numpy as np\n",
    "from concurrent.futures import ThreadPoolExecutor\n",
    "import os"
   ]
  },
  {
   "cell_type": "code",
   "execution_count": 9,
   "metadata": {},
   "outputs": [],
   "source": [
    "# Step 1: Convert PDF to images\n",
    "def pdf_to_images(pdf_path):\n",
    "    return convert_from_path(pdf_path)"
   ]
  },
  {
   "cell_type": "code",
   "execution_count": 10,
   "metadata": {},
   "outputs": [],
   "source": [
    "# Step 2: Preprocess images for better OCR performance using advanced techniques\n",
    "def preprocess_image(image):\n",
    "    # Convert PIL image to OpenCV format\n",
    "    img_cv = np.array(image)\n",
    "    \n",
    "    # Convert to grayscale\n",
    "    img_gray = cv2.cvtColor(img_cv, cv2.COLOR_BGR2GRAY)\n",
    "    \n",
    "    # Denoise using fast non-local means denoising\n",
    "    img_denoised = cv2.fastNlMeansDenoising(img_gray, h=30)\n",
    "    \n",
    "    # Apply adaptive thresholding for better contrast\n",
    "    img_bin = cv2.adaptiveThreshold(img_denoised, 255, cv2.ADAPTIVE_THRESH_GAUSSIAN_C, cv2.THRESH_BINARY, 11, 2)\n",
    "    \n",
    "    # Optionally increase resolution (super-resolution can be implemented via deep learning models)\n",
    "    return img_bin"
   ]
  },
  {
   "cell_type": "code",
   "execution_count": 11,
   "metadata": {},
   "outputs": [],
   "source": [
    "# Step 3: Extract text from images using OCR with parallel processing\n",
    "def extract_text_from_image(image):\n",
    "    preprocessed_image = preprocess_image(image)\n",
    "    return pytesseract.image_to_string(preprocessed_image)\n",
    "\n",
    "def extract_text_from_images(images):\n",
    "    extracted_text = \"\"\n",
    "    \n",
    "    # Using ThreadPoolExecutor to run OCR on multiple images in parallel\n",
    "    with ThreadPoolExecutor() as executor:\n",
    "        results = executor.map(extract_text_from_image, images)\n",
    "    \n",
    "    for result in results:\n",
    "        extracted_text += result\n",
    "    \n",
    "    return extracted_text"
   ]
  },
  {
   "cell_type": "code",
   "execution_count": 12,
   "metadata": {},
   "outputs": [],
   "source": [
    "def create_text_pdf(extracted_text, output_pdf_path):\n",
    "    pdf = FPDF()\n",
    "    pdf.set_auto_page_break(auto=True, margin=15)\n",
    "    pdf.add_page()\n",
    "    \n",
    "    # Improved font and text style\n",
    "    pdf.set_font(\"Arial\", size=12)\n",
    "    pdf.set_left_margin(10)\n",
    "    pdf.set_right_margin(10)\n",
    "\n",
    "    # Split extracted text into paragraphs, keeping line breaks\n",
    "    paragraphs = extracted_text.split(\"\\n\\n\")\n",
    "    \n",
    "    # Add extracted text to PDF with better formatting\n",
    "    for para in paragraphs:\n",
    "        # Ensure encoding is handled gracefully\n",
    "        try:\n",
    "            pdf.multi_cell(0, 10, para.encode('latin-1', 'replace').decode('latin-1'))\n",
    "        except Exception as e:\n",
    "            print(f\"Error processing paragraph: {e}\")\n",
    "            continue\n",
    "    \n",
    "    pdf.output(output_pdf_path)"
   ]
  },
  {
   "cell_type": "code",
   "execution_count": 13,
   "metadata": {},
   "outputs": [],
   "source": [
    "def process_single_pdf(input_pdf_path, output_pdf_path):\n",
    "    images = pdf_to_images(input_pdf_path)\n",
    "    extracted_text = extract_text_from_images(images)\n",
    "    create_text_pdf(extracted_text, output_pdf_path)\n",
    "    print(f\"Processed: {input_pdf_path} -> {output_pdf_path}\")\n"
   ]
  },
  {
   "cell_type": "code",
   "execution_count": 14,
   "metadata": {},
   "outputs": [
    {
     "name": "stdout",
     "output_type": "stream",
     "text": [
      "Processed: sub_input_pdfs\\past paper 2018 sahiwal board 9th class computer science group (I) subjective.pdf -> sub_output_pdfs\\output_past paper 2018 sahiwal board 9th class computer science group (I) subjective.pdf\n",
      "Processed: sub_input_pdfs\\past paper 2018 sahiwal board 9th class computer science group (II) subjective.pdf -> sub_output_pdfs\\output_past paper 2018 sahiwal board 9th class computer science group (II) subjective.pdf\n",
      "Processed: sub_input_pdfs\\past paper 2019 sahiwal board 9th class computer science subjective group (II) Both.pdf -> sub_output_pdfs\\output_past paper 2019 sahiwal board 9th class computer science subjective group (II) Both.pdf\n",
      "Processed: sub_input_pdfs\\past paper 2020 lahore board 9th class computer science group (I) subjective.pdf -> sub_output_pdfs\\output_past paper 2020 lahore board 9th class computer science group (I) subjective.pdf\n",
      "Processed: sub_input_pdfs\\past paper 2020 sahiwal board 9th class computer science group (I) subjective.pdf -> sub_output_pdfs\\output_past paper 2020 sahiwal board 9th class computer science group (I) subjective.pdf\n",
      "Processed: sub_input_pdfs\\Past Paper 2021 Sahiwal Board Class 9th Computer Science Group I Subjective Both Medium.pdf -> sub_output_pdfs\\output_Past Paper 2021 Sahiwal Board Class 9th Computer Science Group I Subjective Both Medium.pdf\n",
      "Processed: sub_input_pdfs\\Past Paper 2021 Sahiwal Board Class 9th Computer Science Group II Subjective Both Medium.pdf -> sub_output_pdfs\\output_Past Paper 2021 Sahiwal Board Class 9th Computer Science Group II Subjective Both Medium.pdf\n",
      "Processed: sub_input_pdfs\\Past Paper 2022 Lahore Board 9th Class Computer Science Group I Subjective English Medium.pdf -> sub_output_pdfs\\output_Past Paper 2022 Lahore Board 9th Class Computer Science Group I Subjective English Medium.pdf\n",
      "Processed: sub_input_pdfs\\Past Paper 2022 Lahore Board 9th Class Computer Science Group II Subjective English Medium.pdf -> sub_output_pdfs\\output_Past Paper 2022 Lahore Board 9th Class Computer Science Group II Subjective English Medium.pdf\n",
      "Processed: sub_input_pdfs\\Past Paper 2022 Sahiwal Board Class 9th Computer Science Group I Subjective Both Medium.pdf -> sub_output_pdfs\\output_Past Paper 2022 Sahiwal Board Class 9th Computer Science Group I Subjective Both Medium.pdf\n",
      "Processed: sub_input_pdfs\\Past Paper 2022 Sahiwal Board Class 9th Computer Science Group II Subjective Both Medium.pdf -> sub_output_pdfs\\output_Past Paper 2022 Sahiwal Board Class 9th Computer Science Group II Subjective Both Medium.pdf\n",
      "Processed: sub_input_pdfs\\Past Paper 2023 9th Class Faisalabad Board Computer Science Subjective.pdf -> sub_output_pdfs\\output_Past Paper 2023 9th Class Faisalabad Board Computer Science Subjective.pdf\n",
      "Processed: sub_input_pdfs\\Past Paper 2023 9th Class Lahore Board Computer Science Subjective Group I English Medium.pdf -> sub_output_pdfs\\output_Past Paper 2023 9th Class Lahore Board Computer Science Subjective Group I English Medium.pdf\n",
      "Processed: sub_input_pdfs\\Past Paper 2023 9th Class Lahore Board Computer Science Subjective Group II English Medium.pdf -> sub_output_pdfs\\output_Past Paper 2023 9th Class Lahore Board Computer Science Subjective Group II English Medium.pdf\n",
      "Processed: sub_input_pdfs\\Past Paper 2023 9th Class Multan Board Computer Science Subjective.pdf -> sub_output_pdfs\\output_Past Paper 2023 9th Class Multan Board Computer Science Subjective.pdf\n",
      "Processed: sub_input_pdfs\\Past Paper 2023 Multan Board Class 9th Computer Science Group II Subjective.pdf -> sub_output_pdfs\\output_Past Paper 2023 Multan Board Class 9th Computer Science Group II Subjective.pdf\n",
      "Processed: sub_input_pdfs\\Past Paper 2023 Sahiwal Board Class 9th Computer Science Group I Subjective.pdf -> sub_output_pdfs\\output_Past Paper 2023 Sahiwal Board Class 9th Computer Science Group I Subjective.pdf\n",
      "Processed: sub_input_pdfs\\Past Paper 2023 Sahiwal Board Class 9th Computer Science Group II Subjective.pdf -> sub_output_pdfs\\output_Past Paper 2023 Sahiwal Board Class 9th Computer Science Group II Subjective.pdf\n",
      "Processed: sub_input_pdfs\\Past Paper 2024 9th Class Multan Board Computer Science Subjective Group 1.pdf -> sub_output_pdfs\\output_Past Paper 2024 9th Class Multan Board Computer Science Subjective Group 1.pdf\n",
      "Processed: sub_input_pdfs\\Past Paper 2024 9th Class Multan Board Computer Science Subjective Group 2.pdf -> sub_output_pdfs\\output_Past Paper 2024 9th Class Multan Board Computer Science Subjective Group 2.pdf\n",
      "Processed: sub_input_pdfs\\Past Paper 2024 9th Class Sahiwal Board Computer Science Subjective Group 1.pdf -> sub_output_pdfs\\output_Past Paper 2024 9th Class Sahiwal Board Computer Science Subjective Group 1.pdf\n",
      "Processed: sub_input_pdfs\\Past Paper 2024 9th Class Sahiwal Board Computer Science Subjective Group 2.pdf -> sub_output_pdfs\\output_Past Paper 2024 9th Class Sahiwal Board Computer Science Subjective Group 2.pdf\n",
      "Processed: sub_input_pdfs\\Past Paper 2024 Lahore Board Class 9th Computer Science Group I Subjective English Medium.pdf -> sub_output_pdfs\\output_Past Paper 2024 Lahore Board Class 9th Computer Science Group I Subjective English Medium.pdf\n",
      "Processed: sub_input_pdfs\\Past Paper 2024 Lahore Board Class 9th Computer Science Group II Subjective English Medium.pdf -> sub_output_pdfs\\output_Past Paper 2024 Lahore Board Class 9th Computer Science Group II Subjective English Medium.pdf\n",
      "Processed: sub_input_pdfs\\Past Paper 9th Class Lahore Board Computer Science Group I English Medium Subjective 2021.pdf -> sub_output_pdfs\\output_Past Paper 9th Class Lahore Board Computer Science Group I English Medium Subjective 2021.pdf\n",
      "Processed: sub_input_pdfs\\Past Paper 9th Class Lahore Board Computer Science Group II English Medium Subjective 2021.pdf -> sub_output_pdfs\\output_Past Paper 9th Class Lahore Board Computer Science Group II English Medium Subjective 2021.pdf\n",
      "Processed: sub_input_pdfs\\Past Papers 2018 Faisalabad Board 9th Class Computer Science English Medium Group 1 Subjective.pdf -> sub_output_pdfs\\output_Past Papers 2018 Faisalabad Board 9th Class Computer Science English Medium Group 1 Subjective.pdf\n",
      "Processed: sub_input_pdfs\\Past Papers 2018 Faisalabad Board 9th Class Computer Science English Medium Group 2 Subjective.pdf -> sub_output_pdfs\\output_Past Papers 2018 Faisalabad Board 9th Class Computer Science English Medium Group 2 Subjective.pdf\n",
      "Processed: sub_input_pdfs\\Past Papers 2019 Faisalabad Board 9th Class Computer Science Group I Subjective English Medium.pdf -> sub_output_pdfs\\output_Past Papers 2019 Faisalabad Board 9th Class Computer Science Group I Subjective English Medium.pdf\n",
      "Processed: sub_input_pdfs\\Past Papers 2019 Faisalabad Board 9th Class Computer Science Group II Subjective English Medium.pdf -> sub_output_pdfs\\output_Past Papers 2019 Faisalabad Board 9th Class Computer Science Group II Subjective English Medium.pdf\n",
      "Processed: sub_input_pdfs\\Past Papers 2019 Lahore Board 9th Class Computer Science Group I Subjective English Medium.pdf -> sub_output_pdfs\\output_Past Papers 2019 Lahore Board 9th Class Computer Science Group I Subjective English Medium.pdf\n"
     ]
    }
   ],
   "source": [
    "def main(input_folder, output_folder):\n",
    "    # Create output folder if it doesn't exist\n",
    "    os.makedirs(output_folder, exist_ok=True)\n",
    "\n",
    "    # Get all PDF files from the input folder\n",
    "    pdf_files = [f for f in os.listdir(input_folder) if f.lower().endswith('.pdf')]\n",
    "\n",
    "    # Process each PDF file\n",
    "    for pdf_file in pdf_files:\n",
    "        input_path = os.path.join(input_folder, pdf_file)\n",
    "        output_filename = f\"output_{os.path.splitext(pdf_file)[0]}.pdf\"\n",
    "        output_path = os.path.join(output_folder, output_filename)\n",
    "        process_single_pdf(input_path, output_path)\n",
    "\n",
    "# Usage\n",
    "input_folder = \"sub_input_pdfs\"\n",
    "output_folder = \"sub_output_pdfs\"\n",
    "main(input_folder, output_folder)"
   ]
  },
  {
   "cell_type": "code",
   "execution_count": null,
   "metadata": {},
   "outputs": [],
   "source": []
  }
 ],
 "metadata": {
  "kernelspec": {
   "display_name": "Python 3",
   "language": "python",
   "name": "python3"
  },
  "language_info": {
   "codemirror_mode": {
    "name": "ipython",
    "version": 3
   },
   "file_extension": ".py",
   "mimetype": "text/x-python",
   "name": "python",
   "nbconvert_exporter": "python",
   "pygments_lexer": "ipython3",
   "version": "3.11.9"
  }
 },
 "nbformat": 4,
 "nbformat_minor": 2
}
